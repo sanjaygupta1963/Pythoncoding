{
 "cells": [
  {
   "cell_type": "markdown",
   "id": "25f2e553",
   "metadata": {},
   "source": [
    "# Python Example for Ridge Regression \n",
    "# Sanjay Gupta\n",
    "# Date: 15-August-2021"
   ]
  },
  {
   "cell_type": "raw",
   "id": "829f1c1c",
   "metadata": {},
   "source": [
    "# Ridge Regression:\n",
    "===================\n",
    "# In Ridge regression, we add a penalty term which is equal to the square of the coefficient. The L2 term is equal to the square of the magnitude of the coefficients. We also add a coefficient  \\lambda  to control that penalty term. In this case if  \\lambda  is zero then the equation is the basic OLS else if  \\lambda \\, > \\, 0 then it will add a constraint to the coefficient. As we increase the value of \\lambda this constraint causes the value of the coefficient to tend towards zero. This leads to both low variance (as some coefficient leads to negligible effect on prediction) and low bias (minimization of coefficient reduce the dependency of prediction on a particular variable)."
   ]
  },
  {
   "cell_type": "raw",
   "id": "542c232a",
   "metadata": {},
   "source": [
    "# Limitation of Ridge Regression:\n",
    "==================================\n",
    "# Ridge regression decreases the complexity of a model but does not reduce the number of variables since it never leads to a coefficient been zero rather only minimizes it. Hence, this model is not good for feature reduction."
   ]
  },
  {
   "cell_type": "markdown",
   "id": "ec648e95",
   "metadata": {},
   "source": [
    "# Step # 1: Importing Libraries"
   ]
  },
  {
   "cell_type": "code",
   "execution_count": 7,
   "id": "b417beb9",
   "metadata": {},
   "outputs": [],
   "source": [
    "import pandas as pd\n",
    "from numpy import arange\n",
    "from sklearn.linear_model import Ridge\n",
    "from sklearn.linear_model import RidgeCV\n",
    "from sklearn.model_selection import RepeatedKFold"
   ]
  },
  {
   "cell_type": "code",
   "execution_count": 8,
   "id": "71d9d279",
   "metadata": {},
   "outputs": [],
   "source": [
    "#specify URL where data is located\n",
    "url = 'https://raw.githubusercontent.com/sanjaygupta1963/Pythoncoding/main/price_train_r_exam_sem2.csv'\n",
    "\n",
    "# Load Dataset from the Github URL\n",
    "dfcombine = pd.read_csv(url)"
   ]
  },
  {
   "cell_type": "markdown",
   "id": "e86b2fde",
   "metadata": {},
   "source": [
    "# Step # 2: Cleaning the Data"
   ]
  },
  {
   "cell_type": "code",
   "execution_count": 9,
   "id": "05d1ab15",
   "metadata": {},
   "outputs": [
    {
     "name": "stdout",
     "output_type": "stream",
     "text": [
      "<class 'pandas.core.frame.DataFrame'>\n",
      "RangeIndex: 3466 entries, 0 to 3465\n",
      "Data columns (total 10 columns):\n",
      " #   Column            Non-Null Count  Dtype  \n",
      "---  ------            --------------  -----  \n",
      " 0   accommodates      3466 non-null   int64  \n",
      " 1   guests_included   3466 non-null   int64  \n",
      " 2   bathrooms         3466 non-null   float64\n",
      " 3   bedrooms          3466 non-null   int64  \n",
      " 4   beds              3466 non-null   int64  \n",
      " 5   cleaning_fee      3466 non-null   float64\n",
      " 6   minimum_nights    3466 non-null   int64  \n",
      " 7   maximum_nights    3466 non-null   int64  \n",
      " 8   instant_bookable  3466 non-null   int32  \n",
      " 9   price             3466 non-null   float64\n",
      "dtypes: float64(3), int32(1), int64(6)\n",
      "memory usage: 257.4 KB\n"
     ]
    },
    {
     "name": "stderr",
     "output_type": "stream",
     "text": [
      "<ipython-input-9-4c86d8783180>:3: FutureWarning: The default value of regex will change from True to False in a future version. In addition, single character regular expressions will*not* be treated as literal strings when regex=True.\n",
      "  dfcombine['price'] = dfcombine['price'].str.replace('$','')\n",
      "<ipython-input-9-4c86d8783180>:5: FutureWarning: The default value of regex will change from True to False in a future version. In addition, single character regular expressions will*not* be treated as literal strings when regex=True.\n",
      "  dfcombine['cleaning_fee'] = dfcombine['cleaning_fee'].str.replace('$','')\n"
     ]
    }
   ],
   "source": [
    "# Let us Clean the Combine Datasets\n",
    "# Removing the $ sign from the cleaning_fee and price Columns \n",
    "dfcombine['price'] = dfcombine['price'].str.replace('$','')\n",
    "dfcombine['price'] = dfcombine['price'].str.replace(',','')\n",
    "dfcombine['cleaning_fee'] = dfcombine['cleaning_fee'].str.replace('$','')\n",
    "dfcombine['cleaning_fee'] = dfcombine['cleaning_fee'].str.replace(',','')\n",
    "\n",
    "dfcombine[[\"price\"]] = dfcombine[[\"price\"]].apply(pd.to_numeric)\n",
    "dfcombine[[\"cleaning_fee\"]] = dfcombine[[\"cleaning_fee\"]].apply(pd.to_numeric)\n",
    "\n",
    "# Convert a single column of boolean values to a column of integers 1 or 0\n",
    "dfcombine[\"instant_bookable\"] = dfcombine[\"instant_bookable\"].astype(int)\n",
    "\n",
    "# Dropping irrelevant Columns \"X1\", \"id\", \"latitude\", \"longitude\"\n",
    "dfcombine.drop([\"X1\", \"id\", \"latitude\",\"host_response_rate\",\"host_is_superhost\",\"host_listings_count\",\"longitude\", \"amenities\",\"cancellation_policy\",\"bed_type\",\"property_type\",\"host_response_time\",\"neighbourhood_group_cleansed\",\"room_type\",\"host_identity_verified\"], axis=1, inplace=True)\n",
    "\n",
    "dfcombine.info()"
   ]
  },
  {
   "cell_type": "code",
   "execution_count": 10,
   "id": "78845ce0",
   "metadata": {},
   "outputs": [
    {
     "data": {
      "text/html": [
       "<div>\n",
       "<style scoped>\n",
       "    .dataframe tbody tr th:only-of-type {\n",
       "        vertical-align: middle;\n",
       "    }\n",
       "\n",
       "    .dataframe tbody tr th {\n",
       "        vertical-align: top;\n",
       "    }\n",
       "\n",
       "    .dataframe thead th {\n",
       "        text-align: right;\n",
       "    }\n",
       "</style>\n",
       "<table border=\"1\" class=\"dataframe\">\n",
       "  <thead>\n",
       "    <tr style=\"text-align: right;\">\n",
       "      <th></th>\n",
       "      <th>accommodates</th>\n",
       "      <th>guests_included</th>\n",
       "      <th>bathrooms</th>\n",
       "      <th>bedrooms</th>\n",
       "      <th>beds</th>\n",
       "      <th>cleaning_fee</th>\n",
       "      <th>minimum_nights</th>\n",
       "      <th>maximum_nights</th>\n",
       "      <th>instant_bookable</th>\n",
       "      <th>price</th>\n",
       "    </tr>\n",
       "  </thead>\n",
       "  <tbody>\n",
       "    <tr>\n",
       "      <th>0</th>\n",
       "      <td>5</td>\n",
       "      <td>4</td>\n",
       "      <td>2.0</td>\n",
       "      <td>2</td>\n",
       "      <td>2</td>\n",
       "      <td>129.0</td>\n",
       "      <td>2</td>\n",
       "      <td>1125</td>\n",
       "      <td>1</td>\n",
       "      <td>279.0</td>\n",
       "    </tr>\n",
       "    <tr>\n",
       "      <th>1</th>\n",
       "      <td>2</td>\n",
       "      <td>1</td>\n",
       "      <td>1.0</td>\n",
       "      <td>0</td>\n",
       "      <td>1</td>\n",
       "      <td>50.0</td>\n",
       "      <td>2</td>\n",
       "      <td>30</td>\n",
       "      <td>1</td>\n",
       "      <td>99.0</td>\n",
       "    </tr>\n",
       "    <tr>\n",
       "      <th>2</th>\n",
       "      <td>4</td>\n",
       "      <td>2</td>\n",
       "      <td>1.0</td>\n",
       "      <td>1</td>\n",
       "      <td>2</td>\n",
       "      <td>25.0</td>\n",
       "      <td>2</td>\n",
       "      <td>28</td>\n",
       "      <td>0</td>\n",
       "      <td>75.0</td>\n",
       "    </tr>\n",
       "    <tr>\n",
       "      <th>3</th>\n",
       "      <td>2</td>\n",
       "      <td>1</td>\n",
       "      <td>1.0</td>\n",
       "      <td>1</td>\n",
       "      <td>1</td>\n",
       "      <td>0.0</td>\n",
       "      <td>2</td>\n",
       "      <td>30</td>\n",
       "      <td>0</td>\n",
       "      <td>70.0</td>\n",
       "    </tr>\n",
       "    <tr>\n",
       "      <th>4</th>\n",
       "      <td>8</td>\n",
       "      <td>6</td>\n",
       "      <td>2.5</td>\n",
       "      <td>3</td>\n",
       "      <td>3</td>\n",
       "      <td>99.0</td>\n",
       "      <td>2</td>\n",
       "      <td>12</td>\n",
       "      <td>0</td>\n",
       "      <td>242.0</td>\n",
       "    </tr>\n",
       "    <tr>\n",
       "      <th>5</th>\n",
       "      <td>8</td>\n",
       "      <td>6</td>\n",
       "      <td>3.5</td>\n",
       "      <td>3</td>\n",
       "      <td>3</td>\n",
       "      <td>100.0</td>\n",
       "      <td>2</td>\n",
       "      <td>1125</td>\n",
       "      <td>0</td>\n",
       "      <td>430.0</td>\n",
       "    </tr>\n",
       "  </tbody>\n",
       "</table>\n",
       "</div>"
      ],
      "text/plain": [
       "   accommodates  guests_included  bathrooms  bedrooms  beds  cleaning_fee  \\\n",
       "0             5                4        2.0         2     2         129.0   \n",
       "1             2                1        1.0         0     1          50.0   \n",
       "2             4                2        1.0         1     2          25.0   \n",
       "3             2                1        1.0         1     1           0.0   \n",
       "4             8                6        2.5         3     3          99.0   \n",
       "5             8                6        3.5         3     3         100.0   \n",
       "\n",
       "   minimum_nights  maximum_nights  instant_bookable  price  \n",
       "0               2            1125                 1  279.0  \n",
       "1               2              30                 1   99.0  \n",
       "2               2              28                 0   75.0  \n",
       "3               2              30                 0   70.0  \n",
       "4               2              12                 0  242.0  \n",
       "5               2            1125                 0  430.0  "
      ]
     },
     "execution_count": 10,
     "metadata": {},
     "output_type": "execute_result"
    }
   ],
   "source": [
    "#view first six rows of data\n",
    "dfcombine[0:6]"
   ]
  },
  {
   "cell_type": "markdown",
   "id": "cce143b1",
   "metadata": {},
   "source": [
    "# Step #3: Fit the Ridge Regression Model"
   ]
  },
  {
   "cell_type": "raw",
   "id": "d554d977",
   "metadata": {},
   "source": [
    "# Use the RidgeCV() function from sklearn to fit the ridge regression model and use the RepeatedKFold() function to perform k-fold cross-validation to find the optimal alpha value to use for the penalty term.\n",
    "\n",
    "# Note: The term “alpha” is used instead of “lambda” in Python.\n",
    "\n",
    "# For this example we’ll choose k = 10 folds and repeat the cross-validation process 3 times.\n",
    "\n",
    "# Also note that RidgeCV() only tests alpha values .1, 1, and 10 by default. However, we can define our own alpha range from 0 to 1 by increments of 0.01:"
   ]
  },
  {
   "cell_type": "code",
   "execution_count": 11,
   "id": "77e75beb",
   "metadata": {},
   "outputs": [
    {
     "name": "stdout",
     "output_type": "stream",
     "text": [
      "Index(['accommodates', 'guests_included', 'bathrooms', 'bedrooms', 'beds',\n",
      "       'cleaning_fee', 'minimum_nights', 'maximum_nights', 'instant_bookable',\n",
      "       'price'],\n",
      "      dtype='object')\n"
     ]
    }
   ],
   "source": [
    "print(dfcombine.columns)"
   ]
  },
  {
   "cell_type": "code",
   "execution_count": 12,
   "id": "a40f8446",
   "metadata": {},
   "outputs": [
    {
     "name": "stdout",
     "output_type": "stream",
     "text": [
      "0.99\n"
     ]
    }
   ],
   "source": [
    "#define predictor (input) and response (output) variables\n",
    "X = dfcombine[['accommodates', 'guests_included', 'bathrooms', 'bedrooms', 'beds',\n",
    "       'cleaning_fee', 'minimum_nights', 'maximum_nights', 'instant_bookable']]\n",
    "y = dfcombine['price']\n",
    "\n",
    "#define cross-validation method to evaluate model\n",
    "cv = RepeatedKFold(n_splits=10, n_repeats=3, random_state=1)\n",
    "\n",
    "#define model\n",
    "model = RidgeCV(alphas=arange(0, 1, 0.01), cv=cv, scoring='neg_mean_absolute_error')\n",
    "\n",
    "#fit model\n",
    "model.fit(X, y)\n",
    "\n",
    "#display lambda that produced the lowest test MSE\n",
    "print(model.alpha_)"
   ]
  },
  {
   "cell_type": "markdown",
   "id": "4aed40d9",
   "metadata": {},
   "source": [
    "# The lambda value that minimizes the test MSE turns out to be 0.99."
   ]
  },
  {
   "cell_type": "markdown",
   "id": "a38d78aa",
   "metadata": {},
   "source": [
    "# Step #4: Use the Model to Make Predictions of the Output Variable 'Price'"
   ]
  },
  {
   "cell_type": "code",
   "execution_count": 13,
   "id": "0502689f",
   "metadata": {},
   "outputs": [
    {
     "data": {
      "text/plain": [
       "array([320.85939207])"
      ]
     },
     "execution_count": 13,
     "metadata": {},
     "output_type": "execute_result"
    }
   ],
   "source": [
    "#define new observation\n",
    "new = [8,5,4,5,5,100,2,30,1]\n",
    "\n",
    "#predict hp value using lasso regression model\n",
    "model.predict([new])"
   ]
  },
  {
   "cell_type": "code",
   "execution_count": 14,
   "id": "60dcc338",
   "metadata": {},
   "outputs": [],
   "source": [
    "# Based on the New input values, the model predicts the Price of the Room of 320.65292266 ."
   ]
  },
  {
   "cell_type": "raw",
   "id": "38b978bd",
   "metadata": {},
   "source": [
    "# Conclusion:\n",
    "=============\n",
    "# Ridge Regression adds L2 regularization penalty term to loss function. This term reduces the coefficients but does not make them 0 and thus doesn’t eliminate any independent variable completely. It can be used to measure the impact of the different independent variables. "
   ]
  }
 ],
 "metadata": {
  "kernelspec": {
   "display_name": "Python 3",
   "language": "python",
   "name": "python3"
  },
  "language_info": {
   "codemirror_mode": {
    "name": "ipython",
    "version": 3
   },
   "file_extension": ".py",
   "mimetype": "text/x-python",
   "name": "python",
   "nbconvert_exporter": "python",
   "pygments_lexer": "ipython3",
   "version": "3.8.8"
  }
 },
 "nbformat": 4,
 "nbformat_minor": 5
}
