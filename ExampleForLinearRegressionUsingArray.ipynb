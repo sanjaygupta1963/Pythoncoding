{
 "cells": [
  {
   "cell_type": "markdown",
   "id": "9446535d",
   "metadata": {},
   "source": [
    "# Python Example for Linear Regression Using Array Dataset \n",
    "# Univariate Equation Y = Intercept + Coefficient.X\n",
    "# Sanjay Gupta\n",
    "# Date: 7-August-2021"
   ]
  },
  {
   "cell_type": "raw",
   "id": "b9e4e943",
   "metadata": {},
   "source": [
    "# Meaning for Linear Regression: \n",
    "# =============================\n",
    "# Linear Regression is a machine learning algorithm based on supervised learning.\n",
    "# Linear regression performs the task to predict a dependent variable value (y) based on a given independent variable (x). \n",
    "# So, this regression technique finds out a linear relationship between x (input) and y(output)."
   ]
  },
  {
   "cell_type": "raw",
   "id": "f8c71caf",
   "metadata": {},
   "source": [
    "# Meaning of Dependent Features: Output Variables, Response Variables.\n",
    "# Meaning of Independent Features: Input Variables, Predictors."
   ]
  },
  {
   "cell_type": "raw",
   "id": "e7d372c9",
   "metadata": {},
   "source": [
    "# Assumptions:\n",
    "# ============\n",
    "# There are five different types of Assumptions in linear regression.\n",
    "# -Linear Relationship.\n",
    "# -No Autocorrelation.\n",
    "# -Multivariate Normality.\n",
    "# -Homoscedasticity.\n",
    "# -No or low Multicollinearity."
   ]
  },
  {
   "cell_type": "raw",
   "id": "278c063d",
   "metadata": {},
   "source": [
    "# Pre-Conditions:\n",
    "# ===============\n",
    "# -Input and Output Variables should be Numeric Type - Scale / Float / Int / Binary.\n",
    "# -Input and Output Variables should not be Categorical Variables.\n",
    "# -Convert Input and Output Variables into Dummy Variables IF those are Categorical Variables before Applying Regression Model."
   ]
  },
  {
   "cell_type": "markdown",
   "id": "0056406b",
   "metadata": {},
   "source": [
    "# Step # 1: Importing Libraries"
   ]
  },
  {
   "cell_type": "code",
   "execution_count": 1,
   "id": "20621f0b",
   "metadata": {},
   "outputs": [],
   "source": [
    "import numpy as np\n",
    "import matplotlib.pyplot as plt\n",
    "from sklearn.linear_model import LinearRegression\n",
    "%matplotlib inline"
   ]
  },
  {
   "cell_type": "markdown",
   "id": "a0b419d6",
   "metadata": {},
   "source": [
    "# Step # 2: Loading the Dataset into Arrays"
   ]
  },
  {
   "cell_type": "code",
   "execution_count": 2,
   "id": "c4cecacd",
   "metadata": {},
   "outputs": [],
   "source": [
    "# X variable\n",
    "input_var = np.array([5, 10, 15, 20, 25, 30, 35, 40, 50, 55, 65, 75, 95, 105, 125, 135, 145, 150, 170, 200]).reshape((-1, 1))\n",
    "# Y Variable\n",
    "output_var = np.array([5, 20, 14, 32, 22, 38, 40, 69, 72, 82, 91, 99, 61, 74, 84, 88, 79, 66, 121, 120])"
   ]
  },
  {
   "cell_type": "code",
   "execution_count": 3,
   "id": "d75292a1",
   "metadata": {},
   "outputs": [
    {
     "data": {
      "text/plain": [
       "array([[  5],\n",
       "       [ 10],\n",
       "       [ 15],\n",
       "       [ 20],\n",
       "       [ 25],\n",
       "       [ 30],\n",
       "       [ 35],\n",
       "       [ 40],\n",
       "       [ 50],\n",
       "       [ 55],\n",
       "       [ 65],\n",
       "       [ 75],\n",
       "       [ 95],\n",
       "       [105],\n",
       "       [125],\n",
       "       [135],\n",
       "       [145],\n",
       "       [150],\n",
       "       [170],\n",
       "       [200]])"
      ]
     },
     "execution_count": 3,
     "metadata": {},
     "output_type": "execute_result"
    }
   ],
   "source": [
    "input_var"
   ]
  },
  {
   "cell_type": "code",
   "execution_count": 4,
   "id": "63bf1721",
   "metadata": {},
   "outputs": [
    {
     "data": {
      "text/plain": [
       "array([  5,  20,  14,  32,  22,  38,  40,  69,  72,  82,  91,  99,  61,\n",
       "        74,  84,  88,  79,  66, 121, 120])"
      ]
     },
     "execution_count": 4,
     "metadata": {},
     "output_type": "execute_result"
    }
   ],
   "source": [
    "output_var"
   ]
  },
  {
   "cell_type": "markdown",
   "id": "5e0ced2c",
   "metadata": {},
   "source": [
    "# Step # 3: Select the Model"
   ]
  },
  {
   "cell_type": "code",
   "execution_count": 5,
   "id": "f17519f0",
   "metadata": {},
   "outputs": [],
   "source": [
    "lr_model = LinearRegression()"
   ]
  },
  {
   "cell_type": "markdown",
   "id": "7c920751",
   "metadata": {},
   "source": [
    "# Step # 4: Fit the Model"
   ]
  },
  {
   "cell_type": "code",
   "execution_count": 6,
   "id": "1e3fefc3",
   "metadata": {},
   "outputs": [],
   "source": [
    "lr_model = LinearRegression().fit(input_var, output_var)"
   ]
  },
  {
   "cell_type": "markdown",
   "id": "337e5d55",
   "metadata": {},
   "source": [
    "# Step # 5: Obtain the coefficient of determination (𝑅²) with .score()"
   ]
  },
  {
   "cell_type": "code",
   "execution_count": 7,
   "id": "fe4c1943",
   "metadata": {},
   "outputs": [],
   "source": [
    "r_sq = lr_model.score(input_var, output_var)"
   ]
  },
  {
   "cell_type": "markdown",
   "id": "578756dd",
   "metadata": {},
   "source": [
    "# Step # 6: Print the 𝑅², Intercept, and Model Coefficient (Slope)"
   ]
  },
  {
   "cell_type": "code",
   "execution_count": 8,
   "id": "fd537dd5",
   "metadata": {},
   "outputs": [
    {
     "name": "stdout",
     "output_type": "stream",
     "text": [
      "Coefficient of Determination: 0.6662441926227648\n"
     ]
    }
   ],
   "source": [
    "print('Coefficient of Determination:', r_sq)"
   ]
  },
  {
   "cell_type": "code",
   "execution_count": 9,
   "id": "9e4b848c",
   "metadata": {},
   "outputs": [
    {
     "name": "stdout",
     "output_type": "stream",
     "text": [
      "Intercept: 27.494450693663296\n"
     ]
    }
   ],
   "source": [
    "print('Intercept:', lr_model.intercept_)"
   ]
  },
  {
   "cell_type": "code",
   "execution_count": 10,
   "id": "c35d0974",
   "metadata": {},
   "outputs": [
    {
     "name": "stdout",
     "output_type": "stream",
     "text": [
      "Slope: [0.46910386]\n"
     ]
    }
   ],
   "source": [
    "print('Slope:', lr_model.coef_)"
   ]
  },
  {
   "cell_type": "markdown",
   "id": "32503090",
   "metadata": {},
   "source": [
    "# Step # 7: Obtain the predicted response, use .predict()"
   ]
  },
  {
   "cell_type": "code",
   "execution_count": 11,
   "id": "c5ccc462",
   "metadata": {},
   "outputs": [],
   "source": [
    "output_pred = lr_model.predict(input_var)"
   ]
  },
  {
   "cell_type": "code",
   "execution_count": 12,
   "id": "93d76f62",
   "metadata": {},
   "outputs": [
    {
     "name": "stdout",
     "output_type": "stream",
     "text": [
      "Pedicted Response:\n",
      "[ 29.83997     32.18548931  34.53100862  36.87652793  39.22204724\n",
      "  41.56756655  43.91308586  46.25860517  50.94964379  53.2951631\n",
      "  57.98620172  62.67724034  72.05931759  76.75035621  86.13243345\n",
      "  90.82347207  95.51451069  97.86003    107.24210724 121.3152231 ]\n"
     ]
    }
   ],
   "source": [
    "print('Pedicted Response:', output_pred, sep='\\n')"
   ]
  },
  {
   "cell_type": "markdown",
   "id": "b722884a",
   "metadata": {},
   "source": [
    "# Alternately, above can also be tried as below"
   ]
  },
  {
   "cell_type": "code",
   "execution_count": 13,
   "id": "45b81966",
   "metadata": {},
   "outputs": [],
   "source": [
    "output_pred = lr_model.intercept_ + lr_model.coef_ * input_var"
   ]
  },
  {
   "cell_type": "code",
   "execution_count": 14,
   "id": "aea2ea80",
   "metadata": {},
   "outputs": [
    {
     "name": "stdout",
     "output_type": "stream",
     "text": [
      "Predicted Response:\n",
      "[[ 29.83997   ]\n",
      " [ 32.18548931]\n",
      " [ 34.53100862]\n",
      " [ 36.87652793]\n",
      " [ 39.22204724]\n",
      " [ 41.56756655]\n",
      " [ 43.91308586]\n",
      " [ 46.25860517]\n",
      " [ 50.94964379]\n",
      " [ 53.2951631 ]\n",
      " [ 57.98620172]\n",
      " [ 62.67724034]\n",
      " [ 72.05931759]\n",
      " [ 76.75035621]\n",
      " [ 86.13243345]\n",
      " [ 90.82347207]\n",
      " [ 95.51451069]\n",
      " [ 97.86003   ]\n",
      " [107.24210724]\n",
      " [121.3152231 ]]\n"
     ]
    }
   ],
   "source": [
    "print('Predicted Response:', output_pred, sep='\\n')"
   ]
  },
  {
   "cell_type": "markdown",
   "id": "a41ed097",
   "metadata": {},
   "source": [
    "# Step # 8: Compare the Actual and Predicted values"
   ]
  },
  {
   "cell_type": "code",
   "execution_count": 15,
   "id": "6faa0566",
   "metadata": {},
   "outputs": [
    {
     "name": "stdout",
     "output_type": "stream",
     "text": [
      "[[  5.          29.83997   ]\n",
      " [ 20.          32.18548931]\n",
      " [ 14.          34.53100862]\n",
      " [ 32.          36.87652793]\n",
      " [ 22.          39.22204724]\n",
      " [ 38.          41.56756655]\n",
      " [ 40.          43.91308586]\n",
      " [ 69.          46.25860517]\n",
      " [ 72.          50.94964379]\n",
      " [ 82.          53.2951631 ]\n",
      " [ 91.          57.98620172]\n",
      " [ 99.          62.67724034]\n",
      " [ 61.          72.05931759]\n",
      " [ 74.          76.75035621]\n",
      " [ 84.          86.13243345]\n",
      " [ 88.          90.82347207]\n",
      " [ 79.          95.51451069]\n",
      " [ 66.          97.86003   ]\n",
      " [121.         107.24210724]\n",
      " [120.         121.3152231 ]]\n"
     ]
    }
   ],
   "source": [
    "print(np.c_[output_var, output_pred])"
   ]
  },
  {
   "cell_type": "markdown",
   "id": "d69140bb",
   "metadata": {},
   "source": [
    "# Step # 9: Test the Model on the New Input Dataset"
   ]
  },
  {
   "cell_type": "code",
   "execution_count": 16,
   "id": "14c1347e",
   "metadata": {},
   "outputs": [],
   "source": [
    "x_new = np.arange(20).reshape((-1, 1))"
   ]
  },
  {
   "cell_type": "code",
   "execution_count": 17,
   "id": "6ba8db49",
   "metadata": {},
   "outputs": [
    {
     "data": {
      "text/plain": [
       "array([[ 0],\n",
       "       [ 1],\n",
       "       [ 2],\n",
       "       [ 3],\n",
       "       [ 4],\n",
       "       [ 5],\n",
       "       [ 6],\n",
       "       [ 7],\n",
       "       [ 8],\n",
       "       [ 9],\n",
       "       [10],\n",
       "       [11],\n",
       "       [12],\n",
       "       [13],\n",
       "       [14],\n",
       "       [15],\n",
       "       [16],\n",
       "       [17],\n",
       "       [18],\n",
       "       [19]])"
      ]
     },
     "execution_count": 17,
     "metadata": {},
     "output_type": "execute_result"
    }
   ],
   "source": [
    "x_new"
   ]
  },
  {
   "cell_type": "code",
   "execution_count": 18,
   "id": "5e936197",
   "metadata": {},
   "outputs": [],
   "source": [
    "y_new = lr_model.predict(x_new)"
   ]
  },
  {
   "cell_type": "code",
   "execution_count": 19,
   "id": "dcd7a96b",
   "metadata": {},
   "outputs": [
    {
     "data": {
      "text/plain": [
       "array([27.49445069, 27.96355456, 28.43265842, 28.90176228, 29.37086614,\n",
       "       29.83997   , 30.30907387, 30.77817773, 31.24728159, 31.71638545,\n",
       "       32.18548931, 32.65459318, 33.12369704, 33.5928009 , 34.06190476,\n",
       "       34.53100862, 35.00011249, 35.46921635, 35.93832021, 36.40742407])"
      ]
     },
     "execution_count": 19,
     "metadata": {},
     "output_type": "execute_result"
    }
   ],
   "source": [
    "y_new"
   ]
  },
  {
   "cell_type": "code",
   "execution_count": 20,
   "id": "498ab359",
   "metadata": {},
   "outputs": [],
   "source": [
    "# Obtain the coefficient of determination (𝑅²) with .score()"
   ]
  },
  {
   "cell_type": "code",
   "execution_count": 21,
   "id": "c20ff32c",
   "metadata": {},
   "outputs": [],
   "source": [
    "nr_sq = lr_model.score(x_new, y_new)"
   ]
  },
  {
   "cell_type": "code",
   "execution_count": 22,
   "id": "9f153fe5",
   "metadata": {},
   "outputs": [
    {
     "data": {
      "text/plain": [
       "1.0"
      ]
     },
     "execution_count": 22,
     "metadata": {},
     "output_type": "execute_result"
    }
   ],
   "source": [
    "nr_sq"
   ]
  },
  {
   "cell_type": "markdown",
   "id": "c975b3e3",
   "metadata": {},
   "source": [
    "# Step # 10: Plot Predicted vs Actual values"
   ]
  },
  {
   "cell_type": "code",
   "execution_count": 23,
   "id": "531671c9",
   "metadata": {},
   "outputs": [
    {
     "name": "stderr",
     "output_type": "stream",
     "text": [
      "C:\\Users\\sanja\\anaconda3\\lib\\site-packages\\numpy\\core\\_asarray.py:171: VisibleDeprecationWarning: Creating an ndarray from ragged nested sequences (which is a list-or-tuple of lists-or-tuples-or ndarrays with different lengths or shapes) is deprecated. If you meant to do this, you must specify 'dtype=object' when creating the ndarray.\n",
      "  return array(a, dtype, copy=False, order=order, subok=True)\n"
     ]
    },
    {
     "data": {
      "image/png": "[encoded data removed]",
      "text/plain": [
       "<Figure size 720x720 with 1 Axes>"
      ]
     },
     "metadata": {
      "needs_background": "light"
     },
     "output_type": "display_data"
    }
   ],
   "source": [
    "plt.figure(figsize=(10,10))\n",
    "plt.scatter(output_var, output_pred, c='crimson')\n",
    "plt.yscale('log')\n",
    "plt.xscale('log')\n",
    "\n",
    "p1 = max(max(output_pred), max(output_var))\n",
    "p2 = min(min(output_pred), min(output_var))\n",
    "plt.plot([p1, p2], [p1, p2], 'b-')\n",
    "plt.xlabel('Actual Values', fontsize=15)\n",
    "plt.ylabel('Predicted Values', fontsize=15)\n",
    "plt.axis('Equal')\n",
    "plt.show()"
   ]
  },
  {
   "cell_type": "code",
   "execution_count": 24,
   "id": "4d95104f",
   "metadata": {},
   "outputs": [],
   "source": [
    "# End"
   ]
  }
 ],
 "metadata": {
  "kernelspec": {
   "display_name": "Python 3",
   "language": "python",
   "name": "python3"
  },
  "language_info": {
   "codemirror_mode": {
    "name": "ipython",
    "version": 3
   },
   "file_extension": ".py",
   "mimetype": "text/x-python",
   "name": "python",
   "nbconvert_exporter": "python",
   "pygments_lexer": "ipython3",
   "version": "3.8.8"
  }
 },
 "nbformat": 4,
 "nbformat_minor": 5
}
