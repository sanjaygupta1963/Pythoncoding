{
 "cells": [
  {
   "cell_type": "markdown",
   "id": "9446535d",
   "metadata": {},
   "source": [
    "# Python Example for Linear Regression Using Pandas DataFrame Dataset \n",
    "# Univariate Equation Y = Intercept + Coefficient.X\n",
    "# Sanjay Gupta\n",
    "# Date: 7-August-2021"
   ]
  },
  {
   "cell_type": "raw",
   "id": "b9e4e943",
   "metadata": {},
   "source": [
    "# Meaning for Linear Regression: \n",
    "# =============================\n",
    "# Linear Regression is a machine learning algorithm based on supervised learning.\n",
    "# Linear regression performs the task to predict a dependent variable value (y) based on a given independent variable (x). \n",
    "# So, this regression technique finds out a linear relationship between x (input) and y(output)."
   ]
  },
  {
   "cell_type": "raw",
   "id": "f8c71caf",
   "metadata": {},
   "source": [
    "# Meaning of Dependent Features: Output Variables, Response Variables.\n",
    "# Meaning of Independent Features: Input Variables, Predictors."
   ]
  },
  {
   "cell_type": "raw",
   "id": "e7d372c9",
   "metadata": {},
   "source": [
    "# Assumptions:\n",
    "# ============\n",
    "# There are five different types of Assumptions in linear regression.\n",
    "# -Linear Relationship.\n",
    "# -No Autocorrelation.\n",
    "# -Multivariate Normality.\n",
    "# -Homoscedasticity.\n",
    "# -No or low Multicollinearity."
   ]
  },
  {
   "cell_type": "raw",
   "id": "278c063d",
   "metadata": {},
   "source": [
    "# Pre-Conditions:\n",
    "# ===============\n",
    "# -Input and Output Variables should be Numeric Type - Scale / Float / Int / Binary.\n",
    "# -Input and Output Variables should not be Categorical Variables.\n",
    "# -Convert Input and Output Variables into Dummy Variables IF those are Categorical Variables before Applying Regression Model."
   ]
  },
  {
   "cell_type": "markdown",
   "id": "0056406b",
   "metadata": {},
   "source": [
    "# Step # 1: Importing Libraries"
   ]
  },
  {
   "cell_type": "code",
   "execution_count": 1,
   "id": "20621f0b",
   "metadata": {},
   "outputs": [],
   "source": [
    "import numpy as np\n",
    "import pandas as pd\n",
    "import matplotlib.pyplot as plt\n",
    "from sklearn.linear_model import LinearRegression\n",
    "%matplotlib inline"
   ]
  },
  {
   "cell_type": "markdown",
   "id": "a0b419d6",
   "metadata": {},
   "source": [
    "# Step # 2: Loading the Dataset into Arrays"
   ]
  },
  {
   "cell_type": "code",
   "execution_count": 2,
   "id": "c4cecacd",
   "metadata": {},
   "outputs": [],
   "source": [
    "# X variable\n",
    "input_var = np.array([5, 10, 15, 20, 25, 30, 35, 40, 50, 55, 65, 75, 95, 105, 125, 135, 145, 150, 170, 200]).reshape((-1, 1))\n",
    "# Y Variable\n",
    "output_var = np.array([5, 20, 14, 32, 22, 38, 40, 69, 72, 82, 91, 99, 61, 74, 84, 88, 79, 66, 121, 120])"
   ]
  },
  {
   "cell_type": "code",
   "execution_count": 3,
   "id": "2f8b3399",
   "metadata": {},
   "outputs": [],
   "source": [
    "# Covert Numpy Array into Pandas DataFrame\n",
    "df1=pd.DataFrame(input_var, columns=['Independent Variable'])\n",
    "df2=pd.DataFrame(output_var, columns=['Dependent Variable'])"
   ]
  },
  {
   "cell_type": "code",
   "execution_count": 4,
   "id": "cc6d6774",
   "metadata": {},
   "outputs": [
    {
     "data": {
      "text/html": [
       "<div>\n",
       "<style scoped>\n",
       "    .dataframe tbody tr th:only-of-type {\n",
       "        vertical-align: middle;\n",
       "    }\n",
       "\n",
       "    .dataframe tbody tr th {\n",
       "        vertical-align: top;\n",
       "    }\n",
       "\n",
       "    .dataframe thead th {\n",
       "        text-align: right;\n",
       "    }\n",
       "</style>\n",
       "<table border=\"1\" class=\"dataframe\">\n",
       "  <thead>\n",
       "    <tr style=\"text-align: right;\">\n",
       "      <th></th>\n",
       "      <th>Independent Variable</th>\n",
       "    </tr>\n",
       "  </thead>\n",
       "  <tbody>\n",
       "    <tr>\n",
       "      <th>0</th>\n",
       "      <td>5</td>\n",
       "    </tr>\n",
       "    <tr>\n",
       "      <th>1</th>\n",
       "      <td>10</td>\n",
       "    </tr>\n",
       "    <tr>\n",
       "      <th>2</th>\n",
       "      <td>15</td>\n",
       "    </tr>\n",
       "    <tr>\n",
       "      <th>3</th>\n",
       "      <td>20</td>\n",
       "    </tr>\n",
       "    <tr>\n",
       "      <th>4</th>\n",
       "      <td>25</td>\n",
       "    </tr>\n",
       "    <tr>\n",
       "      <th>5</th>\n",
       "      <td>30</td>\n",
       "    </tr>\n",
       "    <tr>\n",
       "      <th>6</th>\n",
       "      <td>35</td>\n",
       "    </tr>\n",
       "    <tr>\n",
       "      <th>7</th>\n",
       "      <td>40</td>\n",
       "    </tr>\n",
       "    <tr>\n",
       "      <th>8</th>\n",
       "      <td>50</td>\n",
       "    </tr>\n",
       "    <tr>\n",
       "      <th>9</th>\n",
       "      <td>55</td>\n",
       "    </tr>\n",
       "    <tr>\n",
       "      <th>10</th>\n",
       "      <td>65</td>\n",
       "    </tr>\n",
       "    <tr>\n",
       "      <th>11</th>\n",
       "      <td>75</td>\n",
       "    </tr>\n",
       "    <tr>\n",
       "      <th>12</th>\n",
       "      <td>95</td>\n",
       "    </tr>\n",
       "    <tr>\n",
       "      <th>13</th>\n",
       "      <td>105</td>\n",
       "    </tr>\n",
       "    <tr>\n",
       "      <th>14</th>\n",
       "      <td>125</td>\n",
       "    </tr>\n",
       "    <tr>\n",
       "      <th>15</th>\n",
       "      <td>135</td>\n",
       "    </tr>\n",
       "    <tr>\n",
       "      <th>16</th>\n",
       "      <td>145</td>\n",
       "    </tr>\n",
       "    <tr>\n",
       "      <th>17</th>\n",
       "      <td>150</td>\n",
       "    </tr>\n",
       "    <tr>\n",
       "      <th>18</th>\n",
       "      <td>170</td>\n",
       "    </tr>\n",
       "    <tr>\n",
       "      <th>19</th>\n",
       "      <td>200</td>\n",
       "    </tr>\n",
       "  </tbody>\n",
       "</table>\n",
       "</div>"
      ],
      "text/plain": [
       "    Independent Variable\n",
       "0                      5\n",
       "1                     10\n",
       "2                     15\n",
       "3                     20\n",
       "4                     25\n",
       "5                     30\n",
       "6                     35\n",
       "7                     40\n",
       "8                     50\n",
       "9                     55\n",
       "10                    65\n",
       "11                    75\n",
       "12                    95\n",
       "13                   105\n",
       "14                   125\n",
       "15                   135\n",
       "16                   145\n",
       "17                   150\n",
       "18                   170\n",
       "19                   200"
      ]
     },
     "execution_count": 4,
     "metadata": {},
     "output_type": "execute_result"
    }
   ],
   "source": [
    "df1"
   ]
  },
  {
   "cell_type": "code",
   "execution_count": 5,
   "id": "918ec076",
   "metadata": {},
   "outputs": [
    {
     "data": {
      "text/html": [
       "<div>\n",
       "<style scoped>\n",
       "    .dataframe tbody tr th:only-of-type {\n",
       "        vertical-align: middle;\n",
       "    }\n",
       "\n",
       "    .dataframe tbody tr th {\n",
       "        vertical-align: top;\n",
       "    }\n",
       "\n",
       "    .dataframe thead th {\n",
       "        text-align: right;\n",
       "    }\n",
       "</style>\n",
       "<table border=\"1\" class=\"dataframe\">\n",
       "  <thead>\n",
       "    <tr style=\"text-align: right;\">\n",
       "      <th></th>\n",
       "      <th>Dependent Variable</th>\n",
       "    </tr>\n",
       "  </thead>\n",
       "  <tbody>\n",
       "    <tr>\n",
       "      <th>0</th>\n",
       "      <td>5</td>\n",
       "    </tr>\n",
       "    <tr>\n",
       "      <th>1</th>\n",
       "      <td>20</td>\n",
       "    </tr>\n",
       "    <tr>\n",
       "      <th>2</th>\n",
       "      <td>14</td>\n",
       "    </tr>\n",
       "    <tr>\n",
       "      <th>3</th>\n",
       "      <td>32</td>\n",
       "    </tr>\n",
       "    <tr>\n",
       "      <th>4</th>\n",
       "      <td>22</td>\n",
       "    </tr>\n",
       "    <tr>\n",
       "      <th>5</th>\n",
       "      <td>38</td>\n",
       "    </tr>\n",
       "    <tr>\n",
       "      <th>6</th>\n",
       "      <td>40</td>\n",
       "    </tr>\n",
       "    <tr>\n",
       "      <th>7</th>\n",
       "      <td>69</td>\n",
       "    </tr>\n",
       "    <tr>\n",
       "      <th>8</th>\n",
       "      <td>72</td>\n",
       "    </tr>\n",
       "    <tr>\n",
       "      <th>9</th>\n",
       "      <td>82</td>\n",
       "    </tr>\n",
       "    <tr>\n",
       "      <th>10</th>\n",
       "      <td>91</td>\n",
       "    </tr>\n",
       "    <tr>\n",
       "      <th>11</th>\n",
       "      <td>99</td>\n",
       "    </tr>\n",
       "    <tr>\n",
       "      <th>12</th>\n",
       "      <td>61</td>\n",
       "    </tr>\n",
       "    <tr>\n",
       "      <th>13</th>\n",
       "      <td>74</td>\n",
       "    </tr>\n",
       "    <tr>\n",
       "      <th>14</th>\n",
       "      <td>84</td>\n",
       "    </tr>\n",
       "    <tr>\n",
       "      <th>15</th>\n",
       "      <td>88</td>\n",
       "    </tr>\n",
       "    <tr>\n",
       "      <th>16</th>\n",
       "      <td>79</td>\n",
       "    </tr>\n",
       "    <tr>\n",
       "      <th>17</th>\n",
       "      <td>66</td>\n",
       "    </tr>\n",
       "    <tr>\n",
       "      <th>18</th>\n",
       "      <td>121</td>\n",
       "    </tr>\n",
       "    <tr>\n",
       "      <th>19</th>\n",
       "      <td>120</td>\n",
       "    </tr>\n",
       "  </tbody>\n",
       "</table>\n",
       "</div>"
      ],
      "text/plain": [
       "    Dependent Variable\n",
       "0                    5\n",
       "1                   20\n",
       "2                   14\n",
       "3                   32\n",
       "4                   22\n",
       "5                   38\n",
       "6                   40\n",
       "7                   69\n",
       "8                   72\n",
       "9                   82\n",
       "10                  91\n",
       "11                  99\n",
       "12                  61\n",
       "13                  74\n",
       "14                  84\n",
       "15                  88\n",
       "16                  79\n",
       "17                  66\n",
       "18                 121\n",
       "19                 120"
      ]
     },
     "execution_count": 5,
     "metadata": {},
     "output_type": "execute_result"
    }
   ],
   "source": [
    "df2"
   ]
  },
  {
   "cell_type": "code",
   "execution_count": 6,
   "id": "d75292a1",
   "metadata": {},
   "outputs": [
    {
     "data": {
      "text/plain": [
       "array([[  5],\n",
       "       [ 10],\n",
       "       [ 15],\n",
       "       [ 20],\n",
       "       [ 25],\n",
       "       [ 30],\n",
       "       [ 35],\n",
       "       [ 40],\n",
       "       [ 50],\n",
       "       [ 55],\n",
       "       [ 65],\n",
       "       [ 75],\n",
       "       [ 95],\n",
       "       [105],\n",
       "       [125],\n",
       "       [135],\n",
       "       [145],\n",
       "       [150],\n",
       "       [170],\n",
       "       [200]])"
      ]
     },
     "execution_count": 6,
     "metadata": {},
     "output_type": "execute_result"
    }
   ],
   "source": [
    "input_var"
   ]
  },
  {
   "cell_type": "code",
   "execution_count": 7,
   "id": "63bf1721",
   "metadata": {},
   "outputs": [
    {
     "data": {
      "text/plain": [
       "array([  5,  20,  14,  32,  22,  38,  40,  69,  72,  82,  91,  99,  61,\n",
       "        74,  84,  88,  79,  66, 121, 120])"
      ]
     },
     "execution_count": 7,
     "metadata": {},
     "output_type": "execute_result"
    }
   ],
   "source": [
    "output_var"
   ]
  },
  {
   "cell_type": "markdown",
   "id": "5e0ced2c",
   "metadata": {},
   "source": [
    "# Step # 3: Select the Model"
   ]
  },
  {
   "cell_type": "code",
   "execution_count": 8,
   "id": "f17519f0",
   "metadata": {},
   "outputs": [],
   "source": [
    "lr_model = LinearRegression()"
   ]
  },
  {
   "cell_type": "markdown",
   "id": "7c920751",
   "metadata": {},
   "source": [
    "# Step # 4: Fit the Model"
   ]
  },
  {
   "cell_type": "code",
   "execution_count": 9,
   "id": "1e3fefc3",
   "metadata": {},
   "outputs": [],
   "source": [
    "lr_model = LinearRegression().fit(input_var, output_var)\n",
    "lr_model_df = LinearRegression().fit(df1, df2)"
   ]
  },
  {
   "cell_type": "markdown",
   "id": "337e5d55",
   "metadata": {},
   "source": [
    "# Step # 5: Obtain the coefficient of determination (𝑅²) with .score()"
   ]
  },
  {
   "cell_type": "code",
   "execution_count": 10,
   "id": "fe4c1943",
   "metadata": {},
   "outputs": [],
   "source": [
    "r_sq = lr_model.score(input_var, output_var)\n",
    "r_sq_df = lr_model_df.score(df1, df2)"
   ]
  },
  {
   "cell_type": "markdown",
   "id": "578756dd",
   "metadata": {},
   "source": [
    "# Step # 6: Print the 𝑅², Intercept, and Model Coefficient (Slope)"
   ]
  },
  {
   "cell_type": "code",
   "execution_count": 11,
   "id": "fd537dd5",
   "metadata": {},
   "outputs": [
    {
     "name": "stdout",
     "output_type": "stream",
     "text": [
      "Coefficient of Determination Using Array: 0.6662441926227648 \n",
      " Coefficient of Determination Using DataFrame: 0.6662441926227648\n"
     ]
    }
   ],
   "source": [
    "print('Coefficient of Determination Using Array:',r_sq,'\\n','Coefficient of Determination Using DataFrame:',r_sq_df)"
   ]
  },
  {
   "cell_type": "code",
   "execution_count": 12,
   "id": "9e4b848c",
   "metadata": {},
   "outputs": [
    {
     "name": "stdout",
     "output_type": "stream",
     "text": [
      "Intercept Using Array: 27.494450693663296 \n",
      " Intercept Using DataFrame: [27.49445069]\n"
     ]
    }
   ],
   "source": [
    "print('Intercept Using Array:',lr_model.intercept_,'\\n','Intercept Using DataFrame:',lr_model_df.intercept_)"
   ]
  },
  {
   "cell_type": "code",
   "execution_count": 13,
   "id": "c35d0974",
   "metadata": {},
   "outputs": [
    {
     "name": "stdout",
     "output_type": "stream",
     "text": [
      "Slope Using Array: [0.46910386] \n",
      " Slope Using DataFrame: [[0.46910386]]\n"
     ]
    }
   ],
   "source": [
    "print('Slope Using Array:',lr_model.coef_,'\\n','Slope Using DataFrame:',lr_model_df.coef_)"
   ]
  },
  {
   "cell_type": "markdown",
   "id": "32503090",
   "metadata": {},
   "source": [
    "# Step # 7: Obtain the predicted response, use .predict()"
   ]
  },
  {
   "cell_type": "code",
   "execution_count": 14,
   "id": "c5ccc462",
   "metadata": {},
   "outputs": [],
   "source": [
    "output_pred = lr_model.predict(input_var)\n",
    "output_pred_df = lr_model_df.predict(df1)"
   ]
  },
  {
   "cell_type": "code",
   "execution_count": 15,
   "id": "93d76f62",
   "metadata": {},
   "outputs": [
    {
     "name": "stdout",
     "output_type": "stream",
     "text": [
      "Pedicted Response Using Array:\n",
      "[ 29.83997     32.18548931  34.53100862  36.87652793  39.22204724\n",
      "  41.56756655  43.91308586  46.25860517  50.94964379  53.2951631\n",
      "  57.98620172  62.67724034  72.05931759  76.75035621  86.13243345\n",
      "  90.82347207  95.51451069  97.86003    107.24210724 121.3152231 ]\n"
     ]
    }
   ],
   "source": [
    "print('Pedicted Response Using Array:', output_pred, sep='\\n')"
   ]
  },
  {
   "cell_type": "code",
   "execution_count": 16,
   "id": "9180b896",
   "metadata": {},
   "outputs": [
    {
     "name": "stdout",
     "output_type": "stream",
     "text": [
      "Pedicted Response Using DataFrame:\n",
      "[[ 29.83997   ]\n",
      " [ 32.18548931]\n",
      " [ 34.53100862]\n",
      " [ 36.87652793]\n",
      " [ 39.22204724]\n",
      " [ 41.56756655]\n",
      " [ 43.91308586]\n",
      " [ 46.25860517]\n",
      " [ 50.94964379]\n",
      " [ 53.2951631 ]\n",
      " [ 57.98620172]\n",
      " [ 62.67724034]\n",
      " [ 72.05931759]\n",
      " [ 76.75035621]\n",
      " [ 86.13243345]\n",
      " [ 90.82347207]\n",
      " [ 95.51451069]\n",
      " [ 97.86003   ]\n",
      " [107.24210724]\n",
      " [121.3152231 ]]\n"
     ]
    }
   ],
   "source": [
    "print('Pedicted Response Using DataFrame:', output_pred_df, sep='\\n')"
   ]
  },
  {
   "cell_type": "markdown",
   "id": "b722884a",
   "metadata": {},
   "source": [
    "# Alternately, above can also be tried as below"
   ]
  },
  {
   "cell_type": "code",
   "execution_count": 17,
   "id": "45b81966",
   "metadata": {},
   "outputs": [],
   "source": [
    "output_pred = lr_model.intercept_ + lr_model.coef_ * input_var\n",
    "output_pred_df = lr_model_df.intercept_ + lr_model_df.coef_ * df1"
   ]
  },
  {
   "cell_type": "code",
   "execution_count": 18,
   "id": "aea2ea80",
   "metadata": {},
   "outputs": [
    {
     "name": "stdout",
     "output_type": "stream",
     "text": [
      "Predicted Response Using Arrays:\n",
      "[[ 29.83997   ]\n",
      " [ 32.18548931]\n",
      " [ 34.53100862]\n",
      " [ 36.87652793]\n",
      " [ 39.22204724]\n",
      " [ 41.56756655]\n",
      " [ 43.91308586]\n",
      " [ 46.25860517]\n",
      " [ 50.94964379]\n",
      " [ 53.2951631 ]\n",
      " [ 57.98620172]\n",
      " [ 62.67724034]\n",
      " [ 72.05931759]\n",
      " [ 76.75035621]\n",
      " [ 86.13243345]\n",
      " [ 90.82347207]\n",
      " [ 95.51451069]\n",
      " [ 97.86003   ]\n",
      " [107.24210724]\n",
      " [121.3152231 ]]\n"
     ]
    }
   ],
   "source": [
    "print('Predicted Response Using Arrays:', output_pred, sep='\\n')"
   ]
  },
  {
   "cell_type": "code",
   "execution_count": 19,
   "id": "d2c1593c",
   "metadata": {},
   "outputs": [
    {
     "name": "stdout",
     "output_type": "stream",
     "text": [
      "Predicted Response Using DataFrame:\n",
      "    Independent Variable\n",
      "0              29.839970\n",
      "1              32.185489\n",
      "2              34.531009\n",
      "3              36.876528\n",
      "4              39.222047\n",
      "5              41.567567\n",
      "6              43.913086\n",
      "7              46.258605\n",
      "8              50.949644\n",
      "9              53.295163\n",
      "10             57.986202\n",
      "11             62.677240\n",
      "12             72.059318\n",
      "13             76.750356\n",
      "14             86.132433\n",
      "15             90.823472\n",
      "16             95.514511\n",
      "17             97.860030\n",
      "18            107.242107\n",
      "19            121.315223\n"
     ]
    }
   ],
   "source": [
    "print('Predicted Response Using DataFrame:', output_pred_df, sep='\\n')"
   ]
  },
  {
   "cell_type": "markdown",
   "id": "f557b0a5",
   "metadata": {},
   "source": [
    "# Step # 8: Compare the Actual and Predicted values"
   ]
  },
  {
   "cell_type": "code",
   "execution_count": 20,
   "id": "829ba3ca",
   "metadata": {},
   "outputs": [
    {
     "name": "stdout",
     "output_type": "stream",
     "text": [
      "[[  5.          29.83997   ]\n",
      " [ 20.          32.18548931]\n",
      " [ 14.          34.53100862]\n",
      " [ 32.          36.87652793]\n",
      " [ 22.          39.22204724]\n",
      " [ 38.          41.56756655]\n",
      " [ 40.          43.91308586]\n",
      " [ 69.          46.25860517]\n",
      " [ 72.          50.94964379]\n",
      " [ 82.          53.2951631 ]\n",
      " [ 91.          57.98620172]\n",
      " [ 99.          62.67724034]\n",
      " [ 61.          72.05931759]\n",
      " [ 74.          76.75035621]\n",
      " [ 84.          86.13243345]\n",
      " [ 88.          90.82347207]\n",
      " [ 79.          95.51451069]\n",
      " [ 66.          97.86003   ]\n",
      " [121.         107.24210724]\n",
      " [120.         121.3152231 ]]\n"
     ]
    }
   ],
   "source": [
    "print(np.c_[output_var, output_pred])"
   ]
  },
  {
   "cell_type": "code",
   "execution_count": 21,
   "id": "58966533",
   "metadata": {},
   "outputs": [
    {
     "data": {
      "text/html": [
       "<div>\n",
       "<style scoped>\n",
       "    .dataframe tbody tr th:only-of-type {\n",
       "        vertical-align: middle;\n",
       "    }\n",
       "\n",
       "    .dataframe tbody tr th {\n",
       "        vertical-align: top;\n",
       "    }\n",
       "\n",
       "    .dataframe thead th {\n",
       "        text-align: right;\n",
       "    }\n",
       "</style>\n",
       "<table border=\"1\" class=\"dataframe\">\n",
       "  <thead>\n",
       "    <tr style=\"text-align: right;\">\n",
       "      <th></th>\n",
       "      <th>Dependent Variable</th>\n",
       "      <th>Independent Variable</th>\n",
       "    </tr>\n",
       "  </thead>\n",
       "  <tbody>\n",
       "    <tr>\n",
       "      <th>0</th>\n",
       "      <td>5</td>\n",
       "      <td>29.839970</td>\n",
       "    </tr>\n",
       "    <tr>\n",
       "      <th>1</th>\n",
       "      <td>20</td>\n",
       "      <td>32.185489</td>\n",
       "    </tr>\n",
       "    <tr>\n",
       "      <th>2</th>\n",
       "      <td>14</td>\n",
       "      <td>34.531009</td>\n",
       "    </tr>\n",
       "    <tr>\n",
       "      <th>3</th>\n",
       "      <td>32</td>\n",
       "      <td>36.876528</td>\n",
       "    </tr>\n",
       "    <tr>\n",
       "      <th>4</th>\n",
       "      <td>22</td>\n",
       "      <td>39.222047</td>\n",
       "    </tr>\n",
       "    <tr>\n",
       "      <th>5</th>\n",
       "      <td>38</td>\n",
       "      <td>41.567567</td>\n",
       "    </tr>\n",
       "    <tr>\n",
       "      <th>6</th>\n",
       "      <td>40</td>\n",
       "      <td>43.913086</td>\n",
       "    </tr>\n",
       "    <tr>\n",
       "      <th>7</th>\n",
       "      <td>69</td>\n",
       "      <td>46.258605</td>\n",
       "    </tr>\n",
       "    <tr>\n",
       "      <th>8</th>\n",
       "      <td>72</td>\n",
       "      <td>50.949644</td>\n",
       "    </tr>\n",
       "    <tr>\n",
       "      <th>9</th>\n",
       "      <td>82</td>\n",
       "      <td>53.295163</td>\n",
       "    </tr>\n",
       "    <tr>\n",
       "      <th>10</th>\n",
       "      <td>91</td>\n",
       "      <td>57.986202</td>\n",
       "    </tr>\n",
       "    <tr>\n",
       "      <th>11</th>\n",
       "      <td>99</td>\n",
       "      <td>62.677240</td>\n",
       "    </tr>\n",
       "    <tr>\n",
       "      <th>12</th>\n",
       "      <td>61</td>\n",
       "      <td>72.059318</td>\n",
       "    </tr>\n",
       "    <tr>\n",
       "      <th>13</th>\n",
       "      <td>74</td>\n",
       "      <td>76.750356</td>\n",
       "    </tr>\n",
       "    <tr>\n",
       "      <th>14</th>\n",
       "      <td>84</td>\n",
       "      <td>86.132433</td>\n",
       "    </tr>\n",
       "    <tr>\n",
       "      <th>15</th>\n",
       "      <td>88</td>\n",
       "      <td>90.823472</td>\n",
       "    </tr>\n",
       "    <tr>\n",
       "      <th>16</th>\n",
       "      <td>79</td>\n",
       "      <td>95.514511</td>\n",
       "    </tr>\n",
       "    <tr>\n",
       "      <th>17</th>\n",
       "      <td>66</td>\n",
       "      <td>97.860030</td>\n",
       "    </tr>\n",
       "    <tr>\n",
       "      <th>18</th>\n",
       "      <td>121</td>\n",
       "      <td>107.242107</td>\n",
       "    </tr>\n",
       "    <tr>\n",
       "      <th>19</th>\n",
       "      <td>120</td>\n",
       "      <td>121.315223</td>\n",
       "    </tr>\n",
       "  </tbody>\n",
       "</table>\n",
       "</div>"
      ],
      "text/plain": [
       "    Dependent Variable  Independent Variable\n",
       "0                    5             29.839970\n",
       "1                   20             32.185489\n",
       "2                   14             34.531009\n",
       "3                   32             36.876528\n",
       "4                   22             39.222047\n",
       "5                   38             41.567567\n",
       "6                   40             43.913086\n",
       "7                   69             46.258605\n",
       "8                   72             50.949644\n",
       "9                   82             53.295163\n",
       "10                  91             57.986202\n",
       "11                  99             62.677240\n",
       "12                  61             72.059318\n",
       "13                  74             76.750356\n",
       "14                  84             86.132433\n",
       "15                  88             90.823472\n",
       "16                  79             95.514511\n",
       "17                  66             97.860030\n",
       "18                 121            107.242107\n",
       "19                 120            121.315223"
      ]
     },
     "execution_count": 21,
     "metadata": {},
     "output_type": "execute_result"
    }
   ],
   "source": [
    "df=pd.DataFrame.join(df2, output_pred_df)\n",
    "df"
   ]
  },
  {
   "cell_type": "markdown",
   "id": "d69140bb",
   "metadata": {},
   "source": [
    "# Step # 9: Test the Model on the New Input Dataset"
   ]
  },
  {
   "cell_type": "code",
   "execution_count": 22,
   "id": "14c1347e",
   "metadata": {},
   "outputs": [],
   "source": [
    "x_new = np.arange(20).reshape((-1, 1))\n",
    "df1_new=pd.DataFrame(x_new, columns=['New Dependent Variable'])"
   ]
  },
  {
   "cell_type": "code",
   "execution_count": 23,
   "id": "6ba8db49",
   "metadata": {},
   "outputs": [
    {
     "data": {
      "text/plain": [
       "array([[ 0],\n",
       "       [ 1],\n",
       "       [ 2],\n",
       "       [ 3],\n",
       "       [ 4],\n",
       "       [ 5],\n",
       "       [ 6],\n",
       "       [ 7],\n",
       "       [ 8],\n",
       "       [ 9],\n",
       "       [10],\n",
       "       [11],\n",
       "       [12],\n",
       "       [13],\n",
       "       [14],\n",
       "       [15],\n",
       "       [16],\n",
       "       [17],\n",
       "       [18],\n",
       "       [19]])"
      ]
     },
     "execution_count": 23,
     "metadata": {},
     "output_type": "execute_result"
    }
   ],
   "source": [
    "x_new"
   ]
  },
  {
   "cell_type": "code",
   "execution_count": 24,
   "id": "ca0441f6",
   "metadata": {},
   "outputs": [
    {
     "data": {
      "text/html": [
       "<div>\n",
       "<style scoped>\n",
       "    .dataframe tbody tr th:only-of-type {\n",
       "        vertical-align: middle;\n",
       "    }\n",
       "\n",
       "    .dataframe tbody tr th {\n",
       "        vertical-align: top;\n",
       "    }\n",
       "\n",
       "    .dataframe thead th {\n",
       "        text-align: right;\n",
       "    }\n",
       "</style>\n",
       "<table border=\"1\" class=\"dataframe\">\n",
       "  <thead>\n",
       "    <tr style=\"text-align: right;\">\n",
       "      <th></th>\n",
       "      <th>New Dependent Variable</th>\n",
       "    </tr>\n",
       "  </thead>\n",
       "  <tbody>\n",
       "    <tr>\n",
       "      <th>0</th>\n",
       "      <td>0</td>\n",
       "    </tr>\n",
       "    <tr>\n",
       "      <th>1</th>\n",
       "      <td>1</td>\n",
       "    </tr>\n",
       "    <tr>\n",
       "      <th>2</th>\n",
       "      <td>2</td>\n",
       "    </tr>\n",
       "    <tr>\n",
       "      <th>3</th>\n",
       "      <td>3</td>\n",
       "    </tr>\n",
       "    <tr>\n",
       "      <th>4</th>\n",
       "      <td>4</td>\n",
       "    </tr>\n",
       "    <tr>\n",
       "      <th>5</th>\n",
       "      <td>5</td>\n",
       "    </tr>\n",
       "    <tr>\n",
       "      <th>6</th>\n",
       "      <td>6</td>\n",
       "    </tr>\n",
       "    <tr>\n",
       "      <th>7</th>\n",
       "      <td>7</td>\n",
       "    </tr>\n",
       "    <tr>\n",
       "      <th>8</th>\n",
       "      <td>8</td>\n",
       "    </tr>\n",
       "    <tr>\n",
       "      <th>9</th>\n",
       "      <td>9</td>\n",
       "    </tr>\n",
       "    <tr>\n",
       "      <th>10</th>\n",
       "      <td>10</td>\n",
       "    </tr>\n",
       "    <tr>\n",
       "      <th>11</th>\n",
       "      <td>11</td>\n",
       "    </tr>\n",
       "    <tr>\n",
       "      <th>12</th>\n",
       "      <td>12</td>\n",
       "    </tr>\n",
       "    <tr>\n",
       "      <th>13</th>\n",
       "      <td>13</td>\n",
       "    </tr>\n",
       "    <tr>\n",
       "      <th>14</th>\n",
       "      <td>14</td>\n",
       "    </tr>\n",
       "    <tr>\n",
       "      <th>15</th>\n",
       "      <td>15</td>\n",
       "    </tr>\n",
       "    <tr>\n",
       "      <th>16</th>\n",
       "      <td>16</td>\n",
       "    </tr>\n",
       "    <tr>\n",
       "      <th>17</th>\n",
       "      <td>17</td>\n",
       "    </tr>\n",
       "    <tr>\n",
       "      <th>18</th>\n",
       "      <td>18</td>\n",
       "    </tr>\n",
       "    <tr>\n",
       "      <th>19</th>\n",
       "      <td>19</td>\n",
       "    </tr>\n",
       "  </tbody>\n",
       "</table>\n",
       "</div>"
      ],
      "text/plain": [
       "    New Dependent Variable\n",
       "0                        0\n",
       "1                        1\n",
       "2                        2\n",
       "3                        3\n",
       "4                        4\n",
       "5                        5\n",
       "6                        6\n",
       "7                        7\n",
       "8                        8\n",
       "9                        9\n",
       "10                      10\n",
       "11                      11\n",
       "12                      12\n",
       "13                      13\n",
       "14                      14\n",
       "15                      15\n",
       "16                      16\n",
       "17                      17\n",
       "18                      18\n",
       "19                      19"
      ]
     },
     "execution_count": 24,
     "metadata": {},
     "output_type": "execute_result"
    }
   ],
   "source": [
    "df1_new"
   ]
  },
  {
   "cell_type": "code",
   "execution_count": 25,
   "id": "5e936197",
   "metadata": {},
   "outputs": [],
   "source": [
    "y_new = lr_model.predict(x_new)\n",
    "df_pred_new = lr_model_df.predict(df1_new)"
   ]
  },
  {
   "cell_type": "code",
   "execution_count": 26,
   "id": "dcd7a96b",
   "metadata": {},
   "outputs": [
    {
     "data": {
      "text/plain": [
       "array([27.49445069, 27.96355456, 28.43265842, 28.90176228, 29.37086614,\n",
       "       29.83997   , 30.30907387, 30.77817773, 31.24728159, 31.71638545,\n",
       "       32.18548931, 32.65459318, 33.12369704, 33.5928009 , 34.06190476,\n",
       "       34.53100862, 35.00011249, 35.46921635, 35.93832021, 36.40742407])"
      ]
     },
     "execution_count": 26,
     "metadata": {},
     "output_type": "execute_result"
    }
   ],
   "source": [
    "y_new"
   ]
  },
  {
   "cell_type": "code",
   "execution_count": 27,
   "id": "b7aa8e42",
   "metadata": {},
   "outputs": [
    {
     "data": {
      "text/plain": [
       "array([[27.49445069],\n",
       "       [27.96355456],\n",
       "       [28.43265842],\n",
       "       [28.90176228],\n",
       "       [29.37086614],\n",
       "       [29.83997   ],\n",
       "       [30.30907387],\n",
       "       [30.77817773],\n",
       "       [31.24728159],\n",
       "       [31.71638545],\n",
       "       [32.18548931],\n",
       "       [32.65459318],\n",
       "       [33.12369704],\n",
       "       [33.5928009 ],\n",
       "       [34.06190476],\n",
       "       [34.53100862],\n",
       "       [35.00011249],\n",
       "       [35.46921635],\n",
       "       [35.93832021],\n",
       "       [36.40742407]])"
      ]
     },
     "execution_count": 27,
     "metadata": {},
     "output_type": "execute_result"
    }
   ],
   "source": [
    "df_pred_new"
   ]
  },
  {
   "cell_type": "code",
   "execution_count": 28,
   "id": "498ab359",
   "metadata": {},
   "outputs": [],
   "source": [
    "# Obtain the coefficient of determination (𝑅²) with .score()"
   ]
  },
  {
   "cell_type": "code",
   "execution_count": 29,
   "id": "c20ff32c",
   "metadata": {},
   "outputs": [],
   "source": [
    "nr_sq = lr_model.score(x_new, y_new)\n",
    "df_nr_sq = lr_model_df.score(df1_new, df_pred_new)"
   ]
  },
  {
   "cell_type": "code",
   "execution_count": 30,
   "id": "9f153fe5",
   "metadata": {},
   "outputs": [
    {
     "data": {
      "text/plain": [
       "1.0"
      ]
     },
     "execution_count": 30,
     "metadata": {},
     "output_type": "execute_result"
    }
   ],
   "source": [
    "nr_sq"
   ]
  },
  {
   "cell_type": "code",
   "execution_count": 31,
   "id": "cd11643d",
   "metadata": {},
   "outputs": [
    {
     "data": {
      "text/plain": [
       "1.0"
      ]
     },
     "execution_count": 31,
     "metadata": {},
     "output_type": "execute_result"
    }
   ],
   "source": [
    "df_nr_sq"
   ]
  },
  {
   "cell_type": "markdown",
   "id": "d5a4bd3f",
   "metadata": {},
   "source": [
    "# Step # 10: Plot Predicted vs Actual values"
   ]
  },
  {
   "cell_type": "code",
   "execution_count": 32,
   "id": "531671c9",
   "metadata": {},
   "outputs": [
    {
     "data": {
      "image/png": "[encoded data removed]",
      "text/plain": [
       "<Figure size 720x720 with 1 Axes>"
      ]
     },
     "metadata": {
      "needs_background": "light"
     },
     "output_type": "display_data"
    }
   ],
   "source": [
    "plt.figure(figsize=(10,10))\n",
    "plt.scatter(df2, output_pred_df, c='crimson')\n",
    "plt.yscale('log')\n",
    "plt.xscale('log')\n",
    "\n",
    "p1 = max(max(output_pred_df), max(df2))\n",
    "p2 = min(min(output_pred_df), min(df2))\n",
    "plt.plot([p1, p2], [p1, p2], 'b-')\n",
    "plt.xlabel('Actual Values', fontsize=15)\n",
    "plt.ylabel('Predicted Values', fontsize=15)\n",
    "plt.axis('Equal')\n",
    "plt.show()"
   ]
  },
  {
   "cell_type": "code",
   "execution_count": 33,
   "id": "4d95104f",
   "metadata": {},
   "outputs": [],
   "source": [
    "# End"
   ]
  }
 ],
 "metadata": {
  "kernelspec": {
   "display_name": "Python 3",
   "language": "python",
   "name": "python3"
  },
  "language_info": {
   "codemirror_mode": {
    "name": "ipython",
    "version": 3
   },
   "file_extension": ".py",
   "mimetype": "text/x-python",
   "name": "python",
   "nbconvert_exporter": "python",
   "pygments_lexer": "ipython3",
   "version": "3.8.8"
  }
 },
 "nbformat": 4,
 "nbformat_minor": 5
}
