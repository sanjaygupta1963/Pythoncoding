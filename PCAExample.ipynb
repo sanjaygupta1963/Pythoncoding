{
 "cells": [
  {
   "cell_type": "code",
   "execution_count": 4,
   "id": "c18886ad",
   "metadata": {},
   "outputs": [],
   "source": [
    "import numpy as np\n",
    "import pandas as pd\n",
    "import scipy.linalg as la\n",
    "from sklearn.decomposition import PCA\n",
    "\n",
    "data = np.matrix([[1,2,4],\n",
    "               [4,1,2],\n",
    "               [5,4,8]])\n",
    "\n",
    "df = pd.DataFrame(data)"
   ]
  },
  {
   "cell_type": "code",
   "execution_count": 5,
   "id": "b8b4593a",
   "metadata": {},
   "outputs": [
    {
     "name": "stdout",
     "output_type": "stream",
     "text": [
      "<class 'pandas.core.frame.DataFrame'>\n",
      "RangeIndex: 3 entries, 0 to 2\n",
      "Data columns (total 3 columns):\n",
      " #   Column  Non-Null Count  Dtype\n",
      "---  ------  --------------  -----\n",
      " 0   0       3 non-null      int32\n",
      " 1   1       3 non-null      int32\n",
      " 2   2       3 non-null      int32\n",
      "dtypes: int32(3)\n",
      "memory usage: 164.0 bytes\n"
     ]
    }
   ],
   "source": [
    "df.info()"
   ]
  },
  {
   "cell_type": "code",
   "execution_count": 6,
   "id": "42274ccb",
   "metadata": {},
   "outputs": [
    {
     "data": {
      "text/html": [
       "<div>\n",
       "<style scoped>\n",
       "    .dataframe tbody tr th:only-of-type {\n",
       "        vertical-align: middle;\n",
       "    }\n",
       "\n",
       "    .dataframe tbody tr th {\n",
       "        vertical-align: top;\n",
       "    }\n",
       "\n",
       "    .dataframe thead th {\n",
       "        text-align: right;\n",
       "    }\n",
       "</style>\n",
       "<table border=\"1\" class=\"dataframe\">\n",
       "  <thead>\n",
       "    <tr style=\"text-align: right;\">\n",
       "      <th></th>\n",
       "      <th>0</th>\n",
       "      <th>1</th>\n",
       "      <th>2</th>\n",
       "    </tr>\n",
       "  </thead>\n",
       "  <tbody>\n",
       "    <tr>\n",
       "      <th>0</th>\n",
       "      <td>1</td>\n",
       "      <td>2</td>\n",
       "      <td>4</td>\n",
       "    </tr>\n",
       "    <tr>\n",
       "      <th>1</th>\n",
       "      <td>4</td>\n",
       "      <td>1</td>\n",
       "      <td>2</td>\n",
       "    </tr>\n",
       "    <tr>\n",
       "      <th>2</th>\n",
       "      <td>5</td>\n",
       "      <td>4</td>\n",
       "      <td>8</td>\n",
       "    </tr>\n",
       "  </tbody>\n",
       "</table>\n",
       "</div>"
      ],
      "text/plain": [
       "   0  1  2\n",
       "0  1  2  4\n",
       "1  4  1  2\n",
       "2  5  4  8"
      ]
     },
     "execution_count": 6,
     "metadata": {},
     "output_type": "execute_result"
    }
   ],
   "source": [
    "df.head(3)"
   ]
  },
  {
   "cell_type": "code",
   "execution_count": 10,
   "id": "3d93cda6",
   "metadata": {},
   "outputs": [],
   "source": [
    "# standardize data \n",
    "standardized_data  = (df - df.mean()) / (df.std())\n",
    "\n",
    "# Finding covariance\n",
    "covarance = np.cov(standardized_data.T, bias = 1)\n",
    "\n",
    "# find eigen value& eigen vector\n",
    "eigenvalue, eigenvectors = np.linalg.eig(covarance)\n",
    "\n",
    "# Find PCA\n",
    "n_components = 3\n",
    "\n",
    "pca_manual = np.matmul(np.array(standardized_data),eigenvectors)\n",
    "\n",
    "pca_manual  = pca_manual[:,:n_components]\n",
    "\n",
    "# PCA\n",
    "pca_sklearn = (PCA(n_components).fit_transform(standardized_data))"
   ]
  },
  {
   "cell_type": "code",
   "execution_count": 11,
   "id": "2d040171",
   "metadata": {},
   "outputs": [
    {
     "name": "stdout",
     "output_type": "stream",
     "text": [
      "Standardized data\n",
      "      0     1     2\n",
      "0 -1.12 -0.22 -0.22\n",
      "1  0.32 -0.87 -0.87\n",
      "2  0.80  1.09  1.09\n",
      "\n",
      "Covariance\n",
      "[[0.67 0.28 0.28]\n",
      " [0.28 0.67 0.67]\n",
      " [0.28 0.67 0.67]]\n",
      "\n",
      "eigen_value\n",
      "[ 1.5171  0.4829 -0.    ]\n",
      "\n",
      "eigen_vector\n",
      "[[-0.4215 -0.9068 -0.    ]\n",
      " [-0.6412  0.2981 -0.7071]\n",
      " [-0.6412  0.2981  0.7071]]\n",
      "\n",
      "PCA manually calculated\n",
      "[[ 0.75  0.89  0.  ]\n",
      " [ 0.98 -0.81 -0.  ]\n",
      " [-1.74 -0.08  0.  ]]\n",
      "\n",
      "PCA - sklearn\n",
      "[[-0.75  0.89  0.  ]\n",
      " [-0.98 -0.81  0.  ]\n",
      " [ 1.74 -0.08  0.  ]]\n"
     ]
    }
   ],
   "source": [
    "print('Standardized data')\n",
    "print(standardized_data.round(2))\n",
    "print('')\n",
    "\n",
    "print('Covariance')\n",
    "print(covarance.round(2))\n",
    "print('')\n",
    "\n",
    "print('eigen_value')\n",
    "print(eigenvalue.round(4))\n",
    "print('')\n",
    "\n",
    "\n",
    "print('eigen_vector')\n",
    "print(eigenvectors.round(4))\n",
    "print('')\n",
    "\n",
    "print('PCA manually calculated')\n",
    "print(pca_manual.round(2))\n",
    "print('')\n",
    "\n",
    "print('PCA - sklearn')\n",
    "print(pca_sklearn.round(2))"
   ]
  },
  {
   "cell_type": "raw",
   "id": "cb17a4da",
   "metadata": {},
   "source": [
    "Points to Remember for PCA:\n",
    "===========================\n",
    "1) PCA is applied on a data set with numeric variables.\n",
    "2) PCA is used to overcome features redundancy in a data set.\n",
    "3) These features are low dimensional in nature.\n",
    "4) These features a.k.a components are a resultant of normalized linear combination of original predictor variables.\n",
    "5) These components aim to capture as much information as possible with high explained variance.\n",
    "6) The first component has the highest variance followed by second, third and so on.\n",
    "7) The components must be uncorrelated (remember orthogonal direction ? )\n",
    "8) Normalizing data becomes extremely important when the predictors are measured in different units.\n",
    "9) PCA works best on data set having 3 or higher dimensions. Because, with higher dimensions, it becomes increasingly difficult to make interpretations from the resultant cloud of data.\n",
    "10) PCA is a tool which helps to produce better visualizations of high dimensional data."
   ]
  },
  {
   "cell_type": "code",
   "execution_count": null,
   "id": "1c4ca8a4",
   "metadata": {},
   "outputs": [],
   "source": []
  }
 ],
 "metadata": {
  "kernelspec": {
   "display_name": "Python 3",
   "language": "python",
   "name": "python3"
  },
  "language_info": {
   "codemirror_mode": {
    "name": "ipython",
    "version": 3
   },
   "file_extension": ".py",
   "mimetype": "text/x-python",
   "name": "python",
   "nbconvert_exporter": "python",
   "pygments_lexer": "ipython3",
   "version": "3.8.8"
  }
 },
 "nbformat": 4,
 "nbformat_minor": 5
}
