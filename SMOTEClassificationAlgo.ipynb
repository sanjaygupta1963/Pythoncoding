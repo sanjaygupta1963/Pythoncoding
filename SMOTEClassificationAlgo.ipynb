{
 "cells": [
  {
   "cell_type": "markdown",
   "id": "10a7ad20",
   "metadata": {},
   "source": [
    "# SMOTE (Synthetic Minority Oversampling Technique) – Oversampling \n",
    "# For the Classification Model\n",
    "# Sanjay Gupta\n",
    "# Date: 30-August-2021"
   ]
  },
  {
   "cell_type": "markdown",
   "id": "7e60166d",
   "metadata": {},
   "source": [
    "# Objective"
   ]
  },
  {
   "cell_type": "raw",
   "id": "b4a3559d",
   "metadata": {},
   "source": [
    "# Objective:\n",
    "============\n",
    "# The classification goal is to predict if the client will subscribe a term deposit (variable y)."
   ]
  },
  {
   "cell_type": "code",
   "execution_count": 1,
   "id": "7228618a",
   "metadata": {},
   "outputs": [
    {
     "name": "stdout",
     "output_type": "stream",
     "text": [
      "Citation Request:\r\n",
      "  This dataset is public available for research. The details are described in [Moro et al., 2011]. \r\n",
      "  Please include this citation if you plan to use this database:\r\n",
      "\r\n",
      "  [Moro et al., 2011] S. Moro, R. Laureano and P. Cortez. Using Data Mining for Bank Direct Marketing: An Application of the CRISP-DM Methodology. \r\n",
      "  In P. Novais et al. (Eds.), Proceedings of the European Simulation and Modelling Conference - ESM'2011, pp. 117-121, Guimarães, Portugal, October, 2011. EUROSIS.\r\n",
      "\r\n",
      "  Available at: [pdf] http://hdl.handle.net/1822/14838\r\n",
      "                [bib] http://www3.dsi.uminho.pt/pcortez/bib/2011-esm-1.txt\r\n",
      "\r\n",
      "1. Title: Bank Marketing\r\n",
      "\r\n",
      "2. Sources\r\n",
      "   Created by: Paulo Cortez (Univ. Minho) and Sérgio Moro (ISCTE-IUL) @ 2012\r\n",
      "   \r\n",
      "3. Past Usage:\r\n",
      "\r\n",
      "  The full dataset was described and analyzed in:\r\n",
      "\r\n",
      "  S. Moro, R. Laureano and P. Cortez. Using Data Mining for Bank Direct Marketing: An Application of the CRISP-DM Methodology. \r\n",
      "  In P. Novais et al. (Eds.), Proceedings of the European Simulation and Modelling Conference - ESM'2011, pp. 117-121, Guimarães, \r\n",
      "  Portugal, October, 2011. EUROSIS.\r\n",
      "\r\n",
      "4. Relevant Information:\r\n",
      "\r\n",
      "   The data is related with direct marketing campaigns of a Portuguese banking institution. \r\n",
      "   The marketing campaigns were based on phone calls. Often, more than one contact to the same client was required, \r\n",
      "   in order to access if the product (bank term deposit) would be (or not) subscribed. \r\n",
      "\r\n",
      "   There are two datasets: \r\n",
      "      1) bank-full.csv with all examples, ordered by date (from May 2008 to November 2010).\r\n",
      "      2) bank.csv with 10% of the examples (4521), randomly selected from bank-full.csv.\r\n",
      "   The smallest dataset is provided to test more computationally demanding machine learning algorithms (e.g. SVM).\r\n",
      "\r\n",
      "   The classification goal is to predict if the client will subscribe a term deposit (variable y).\r\n",
      "\r\n",
      "5. Number of Instances: 45211 for bank-full.csv (4521 for bank.csv)\r\n",
      "\r\n",
      "6. Number of Attributes: 16 + output attribute.\r\n",
      "\r\n",
      "7. Attribute information:\r\n",
      "\r\n",
      "   For more information, read [Moro et al., 2011].\r\n",
      "\r\n",
      "   Input variables:\r\n",
      "   # bank client data:\r\n",
      "   1 - age (numeric)\r\n",
      "   2 - job : type of job (categorical: \"admin.\",\"unknown\",\"unemployed\",\"management\",\"housemaid\",\"entrepreneur\",\"student\",\r\n",
      "                                       \"blue-collar\",\"self-employed\",\"retired\",\"technician\",\"services\") \r\n",
      "   3 - marital : marital status (categorical: \"married\",\"divorced\",\"single\"; note: \"divorced\" means divorced or widowed)\r\n",
      "   4 - education (categorical: \"unknown\",\"secondary\",\"primary\",\"tertiary\")\r\n",
      "   5 - default: has credit in default? (binary: \"yes\",\"no\")\r\n",
      "   6 - balance: average yearly balance, in euros (numeric) \r\n",
      "   7 - housing: has housing loan? (binary: \"yes\",\"no\")\r\n",
      "   8 - loan: has personal loan? (binary: \"yes\",\"no\")\r\n",
      "   # related with the last contact of the current campaign:\r\n",
      "   9 - contact: contact communication type (categorical: \"unknown\",\"telephone\",\"cellular\") \r\n",
      "  10 - day: last contact day of the month (numeric)\r\n",
      "  11 - month: last contact month of year (categorical: \"jan\", \"feb\", \"mar\", ..., \"nov\", \"dec\")\r\n",
      "  12 - duration: last contact duration, in seconds (numeric)\r\n",
      "   # other attributes:\r\n",
      "  13 - campaign: number of contacts performed during this campaign and for this client (numeric, includes last contact)\r\n",
      "  14 - pdays: number of days that passed by after the client was last contacted from a previous campaign (numeric, -1 means client was not previously contacted)\r\n",
      "  15 - previous: number of contacts performed before this campaign and for this client (numeric)\r\n",
      "  16 - poutcome: outcome of the previous marketing campaign (categorical: \"unknown\",\"other\",\"failure\",\"success\")\r\n",
      "\r\n",
      "  Output variable (desired target):\r\n",
      "  17 - y - has the client subscribed a term deposit? (binary: \"yes\",\"no\")\r\n",
      "\r\n",
      "8. Missing Attribute Values: None\r\n",
      "\n"
     ]
    }
   ],
   "source": [
    "import pandas as pd\n",
    "import io\n",
    "import requests\n",
    "url = \"https://raw.githubusercontent.com/sanjaygupta1963/Pythoncoding/main/bank-names.txt\"\n",
    "read_data=requests.get(url).content.decode('utf-8')\n",
    "print(read_data)"
   ]
  },
  {
   "cell_type": "markdown",
   "id": "00f44412",
   "metadata": {},
   "source": [
    "# Importing Libraries"
   ]
  },
  {
   "cell_type": "code",
   "execution_count": 2,
   "id": "7a3228fd",
   "metadata": {},
   "outputs": [],
   "source": [
    "# importing required libraries\n",
    "import pandas as pd\n",
    "import numpy as np\n",
    "import matplotlib.pyplot as plt\n",
    "%matplotlib inline\n",
    "from sklearn.cluster import KMeans"
   ]
  },
  {
   "cell_type": "markdown",
   "id": "165233de",
   "metadata": {},
   "source": [
    "# Load the Dataset"
   ]
  },
  {
   "cell_type": "code",
   "execution_count": 3,
   "id": "21f5e5a8",
   "metadata": {},
   "outputs": [],
   "source": [
    "#specify URL where data is located\n",
    "urltrain = 'https://raw.githubusercontent.com/sanjaygupta1963/Pythoncoding/main/bank-full.csv'\n",
    "urltest = 'https://raw.githubusercontent.com/sanjaygupta1963/Pythoncoding/main/bank.csv'\n",
    "\n",
    "# Load Dataset from the Github URL\n",
    "dftrain = pd.read_csv(urltrain,sep=';')\n",
    "dftest = pd.read_csv(urltest,sep=';')"
   ]
  },
  {
   "cell_type": "code",
   "execution_count": 4,
   "id": "aca3c2ff",
   "metadata": {},
   "outputs": [
    {
     "name": "stdout",
     "output_type": "stream",
     "text": [
      "<class 'pandas.core.frame.DataFrame'>\n",
      "RangeIndex: 45211 entries, 0 to 45210\n",
      "Data columns (total 17 columns):\n",
      " #   Column     Non-Null Count  Dtype \n",
      "---  ------     --------------  ----- \n",
      " 0   age        45211 non-null  int64 \n",
      " 1   job        45211 non-null  object\n",
      " 2   marital    45211 non-null  object\n",
      " 3   education  45211 non-null  object\n",
      " 4   default    45211 non-null  object\n",
      " 5   balance    45211 non-null  int64 \n",
      " 6   housing    45211 non-null  object\n",
      " 7   loan       45211 non-null  object\n",
      " 8   contact    45211 non-null  object\n",
      " 9   day        45211 non-null  int64 \n",
      " 10  month      45211 non-null  object\n",
      " 11  duration   45211 non-null  int64 \n",
      " 12  campaign   45211 non-null  int64 \n",
      " 13  pdays      45211 non-null  int64 \n",
      " 14  previous   45211 non-null  int64 \n",
      " 15  poutcome   45211 non-null  object\n",
      " 16  y          45211 non-null  object\n",
      "dtypes: int64(7), object(10)\n",
      "memory usage: 5.9+ MB\n"
     ]
    }
   ],
   "source": [
    "dftrain.info()"
   ]
  },
  {
   "cell_type": "code",
   "execution_count": 5,
   "id": "015dcfa3",
   "metadata": {},
   "outputs": [
    {
     "name": "stdout",
     "output_type": "stream",
     "text": [
      "<class 'pandas.core.frame.DataFrame'>\n",
      "RangeIndex: 4521 entries, 0 to 4520\n",
      "Data columns (total 17 columns):\n",
      " #   Column     Non-Null Count  Dtype \n",
      "---  ------     --------------  ----- \n",
      " 0   age        4521 non-null   int64 \n",
      " 1   job        4521 non-null   object\n",
      " 2   marital    4521 non-null   object\n",
      " 3   education  4521 non-null   object\n",
      " 4   default    4521 non-null   object\n",
      " 5   balance    4521 non-null   int64 \n",
      " 6   housing    4521 non-null   object\n",
      " 7   loan       4521 non-null   object\n",
      " 8   contact    4521 non-null   object\n",
      " 9   day        4521 non-null   int64 \n",
      " 10  month      4521 non-null   object\n",
      " 11  duration   4521 non-null   int64 \n",
      " 12  campaign   4521 non-null   int64 \n",
      " 13  pdays      4521 non-null   int64 \n",
      " 14  previous   4521 non-null   int64 \n",
      " 15  poutcome   4521 non-null   object\n",
      " 16  y          4521 non-null   object\n",
      "dtypes: int64(7), object(10)\n",
      "memory usage: 600.6+ KB\n"
     ]
    }
   ],
   "source": [
    "dftest.info()"
   ]
  },
  {
   "cell_type": "code",
   "execution_count": 6,
   "id": "e99f4d47",
   "metadata": {},
   "outputs": [],
   "source": [
    "# Rename the Column Names 'y' as 'tdeposit' for avoiding any confusion\n",
    "dftrain=dftrain.rename(columns={\"y\": \"tdeposit\"})\n",
    "dftest=dftest.rename(columns={\"y\": \"tdeposit\"})\n",
    "# Replace \n",
    "dftrain=dftrain.replace({'no': 0, 'yes': 1})\n",
    "dftest=dftest.replace({'no': 0, 'yes': 1})"
   ]
  },
  {
   "cell_type": "code",
   "execution_count": 7,
   "id": "0699a917",
   "metadata": {},
   "outputs": [
    {
     "data": {
      "text/html": [
       "<div>\n",
       "<style scoped>\n",
       "    .dataframe tbody tr th:only-of-type {\n",
       "        vertical-align: middle;\n",
       "    }\n",
       "\n",
       "    .dataframe tbody tr th {\n",
       "        vertical-align: top;\n",
       "    }\n",
       "\n",
       "    .dataframe thead th {\n",
       "        text-align: right;\n",
       "    }\n",
       "</style>\n",
       "<table border=\"1\" class=\"dataframe\">\n",
       "  <thead>\n",
       "    <tr style=\"text-align: right;\">\n",
       "      <th></th>\n",
       "      <th>age</th>\n",
       "      <th>job</th>\n",
       "      <th>marital</th>\n",
       "      <th>education</th>\n",
       "      <th>default</th>\n",
       "      <th>balance</th>\n",
       "      <th>housing</th>\n",
       "      <th>loan</th>\n",
       "      <th>contact</th>\n",
       "      <th>day</th>\n",
       "      <th>month</th>\n",
       "      <th>duration</th>\n",
       "      <th>campaign</th>\n",
       "      <th>pdays</th>\n",
       "      <th>previous</th>\n",
       "      <th>poutcome</th>\n",
       "      <th>tdeposit</th>\n",
       "    </tr>\n",
       "  </thead>\n",
       "  <tbody>\n",
       "    <tr>\n",
       "      <th>0</th>\n",
       "      <td>58</td>\n",
       "      <td>management</td>\n",
       "      <td>married</td>\n",
       "      <td>tertiary</td>\n",
       "      <td>0</td>\n",
       "      <td>2143</td>\n",
       "      <td>1</td>\n",
       "      <td>0</td>\n",
       "      <td>unknown</td>\n",
       "      <td>5</td>\n",
       "      <td>may</td>\n",
       "      <td>261</td>\n",
       "      <td>1</td>\n",
       "      <td>-1</td>\n",
       "      <td>0</td>\n",
       "      <td>unknown</td>\n",
       "      <td>0</td>\n",
       "    </tr>\n",
       "    <tr>\n",
       "      <th>1</th>\n",
       "      <td>44</td>\n",
       "      <td>technician</td>\n",
       "      <td>single</td>\n",
       "      <td>secondary</td>\n",
       "      <td>0</td>\n",
       "      <td>29</td>\n",
       "      <td>1</td>\n",
       "      <td>0</td>\n",
       "      <td>unknown</td>\n",
       "      <td>5</td>\n",
       "      <td>may</td>\n",
       "      <td>151</td>\n",
       "      <td>1</td>\n",
       "      <td>-1</td>\n",
       "      <td>0</td>\n",
       "      <td>unknown</td>\n",
       "      <td>0</td>\n",
       "    </tr>\n",
       "    <tr>\n",
       "      <th>2</th>\n",
       "      <td>33</td>\n",
       "      <td>entrepreneur</td>\n",
       "      <td>married</td>\n",
       "      <td>secondary</td>\n",
       "      <td>0</td>\n",
       "      <td>2</td>\n",
       "      <td>1</td>\n",
       "      <td>1</td>\n",
       "      <td>unknown</td>\n",
       "      <td>5</td>\n",
       "      <td>may</td>\n",
       "      <td>76</td>\n",
       "      <td>1</td>\n",
       "      <td>-1</td>\n",
       "      <td>0</td>\n",
       "      <td>unknown</td>\n",
       "      <td>0</td>\n",
       "    </tr>\n",
       "    <tr>\n",
       "      <th>3</th>\n",
       "      <td>47</td>\n",
       "      <td>blue-collar</td>\n",
       "      <td>married</td>\n",
       "      <td>unknown</td>\n",
       "      <td>0</td>\n",
       "      <td>1506</td>\n",
       "      <td>1</td>\n",
       "      <td>0</td>\n",
       "      <td>unknown</td>\n",
       "      <td>5</td>\n",
       "      <td>may</td>\n",
       "      <td>92</td>\n",
       "      <td>1</td>\n",
       "      <td>-1</td>\n",
       "      <td>0</td>\n",
       "      <td>unknown</td>\n",
       "      <td>0</td>\n",
       "    </tr>\n",
       "    <tr>\n",
       "      <th>4</th>\n",
       "      <td>33</td>\n",
       "      <td>unknown</td>\n",
       "      <td>single</td>\n",
       "      <td>unknown</td>\n",
       "      <td>0</td>\n",
       "      <td>1</td>\n",
       "      <td>0</td>\n",
       "      <td>0</td>\n",
       "      <td>unknown</td>\n",
       "      <td>5</td>\n",
       "      <td>may</td>\n",
       "      <td>198</td>\n",
       "      <td>1</td>\n",
       "      <td>-1</td>\n",
       "      <td>0</td>\n",
       "      <td>unknown</td>\n",
       "      <td>0</td>\n",
       "    </tr>\n",
       "    <tr>\n",
       "      <th>5</th>\n",
       "      <td>35</td>\n",
       "      <td>management</td>\n",
       "      <td>married</td>\n",
       "      <td>tertiary</td>\n",
       "      <td>0</td>\n",
       "      <td>231</td>\n",
       "      <td>1</td>\n",
       "      <td>0</td>\n",
       "      <td>unknown</td>\n",
       "      <td>5</td>\n",
       "      <td>may</td>\n",
       "      <td>139</td>\n",
       "      <td>1</td>\n",
       "      <td>-1</td>\n",
       "      <td>0</td>\n",
       "      <td>unknown</td>\n",
       "      <td>0</td>\n",
       "    </tr>\n",
       "    <tr>\n",
       "      <th>6</th>\n",
       "      <td>28</td>\n",
       "      <td>management</td>\n",
       "      <td>single</td>\n",
       "      <td>tertiary</td>\n",
       "      <td>0</td>\n",
       "      <td>447</td>\n",
       "      <td>1</td>\n",
       "      <td>1</td>\n",
       "      <td>unknown</td>\n",
       "      <td>5</td>\n",
       "      <td>may</td>\n",
       "      <td>217</td>\n",
       "      <td>1</td>\n",
       "      <td>-1</td>\n",
       "      <td>0</td>\n",
       "      <td>unknown</td>\n",
       "      <td>0</td>\n",
       "    </tr>\n",
       "    <tr>\n",
       "      <th>7</th>\n",
       "      <td>42</td>\n",
       "      <td>entrepreneur</td>\n",
       "      <td>divorced</td>\n",
       "      <td>tertiary</td>\n",
       "      <td>1</td>\n",
       "      <td>2</td>\n",
       "      <td>1</td>\n",
       "      <td>0</td>\n",
       "      <td>unknown</td>\n",
       "      <td>5</td>\n",
       "      <td>may</td>\n",
       "      <td>380</td>\n",
       "      <td>1</td>\n",
       "      <td>-1</td>\n",
       "      <td>0</td>\n",
       "      <td>unknown</td>\n",
       "      <td>0</td>\n",
       "    </tr>\n",
       "    <tr>\n",
       "      <th>8</th>\n",
       "      <td>58</td>\n",
       "      <td>retired</td>\n",
       "      <td>married</td>\n",
       "      <td>primary</td>\n",
       "      <td>0</td>\n",
       "      <td>121</td>\n",
       "      <td>1</td>\n",
       "      <td>0</td>\n",
       "      <td>unknown</td>\n",
       "      <td>5</td>\n",
       "      <td>may</td>\n",
       "      <td>50</td>\n",
       "      <td>1</td>\n",
       "      <td>-1</td>\n",
       "      <td>0</td>\n",
       "      <td>unknown</td>\n",
       "      <td>0</td>\n",
       "    </tr>\n",
       "    <tr>\n",
       "      <th>9</th>\n",
       "      <td>43</td>\n",
       "      <td>technician</td>\n",
       "      <td>single</td>\n",
       "      <td>secondary</td>\n",
       "      <td>0</td>\n",
       "      <td>593</td>\n",
       "      <td>1</td>\n",
       "      <td>0</td>\n",
       "      <td>unknown</td>\n",
       "      <td>5</td>\n",
       "      <td>may</td>\n",
       "      <td>55</td>\n",
       "      <td>1</td>\n",
       "      <td>-1</td>\n",
       "      <td>0</td>\n",
       "      <td>unknown</td>\n",
       "      <td>0</td>\n",
       "    </tr>\n",
       "  </tbody>\n",
       "</table>\n",
       "</div>"
      ],
      "text/plain": [
       "   age           job   marital  education  default  balance  housing  loan  \\\n",
       "0   58    management   married   tertiary        0     2143        1     0   \n",
       "1   44    technician    single  secondary        0       29        1     0   \n",
       "2   33  entrepreneur   married  secondary        0        2        1     1   \n",
       "3   47   blue-collar   married    unknown        0     1506        1     0   \n",
       "4   33       unknown    single    unknown        0        1        0     0   \n",
       "5   35    management   married   tertiary        0      231        1     0   \n",
       "6   28    management    single   tertiary        0      447        1     1   \n",
       "7   42  entrepreneur  divorced   tertiary        1        2        1     0   \n",
       "8   58       retired   married    primary        0      121        1     0   \n",
       "9   43    technician    single  secondary        0      593        1     0   \n",
       "\n",
       "   contact  day month  duration  campaign  pdays  previous poutcome  tdeposit  \n",
       "0  unknown    5   may       261         1     -1         0  unknown         0  \n",
       "1  unknown    5   may       151         1     -1         0  unknown         0  \n",
       "2  unknown    5   may        76         1     -1         0  unknown         0  \n",
       "3  unknown    5   may        92         1     -1         0  unknown         0  \n",
       "4  unknown    5   may       198         1     -1         0  unknown         0  \n",
       "5  unknown    5   may       139         1     -1         0  unknown         0  \n",
       "6  unknown    5   may       217         1     -1         0  unknown         0  \n",
       "7  unknown    5   may       380         1     -1         0  unknown         0  \n",
       "8  unknown    5   may        50         1     -1         0  unknown         0  \n",
       "9  unknown    5   may        55         1     -1         0  unknown         0  "
      ]
     },
     "execution_count": 7,
     "metadata": {},
     "output_type": "execute_result"
    }
   ],
   "source": [
    "dftrain.head(10)"
   ]
  },
  {
   "cell_type": "code",
   "execution_count": 8,
   "id": "45700891",
   "metadata": {},
   "outputs": [
    {
     "name": "stdout",
     "output_type": "stream",
     "text": [
      "<class 'pandas.core.frame.DataFrame'>\n",
      "RangeIndex: 45211 entries, 0 to 45210\n",
      "Data columns (total 17 columns):\n",
      " #   Column     Non-Null Count  Dtype \n",
      "---  ------     --------------  ----- \n",
      " 0   age        45211 non-null  int64 \n",
      " 1   job        45211 non-null  object\n",
      " 2   marital    45211 non-null  object\n",
      " 3   education  45211 non-null  object\n",
      " 4   default    45211 non-null  int64 \n",
      " 5   balance    45211 non-null  int64 \n",
      " 6   housing    45211 non-null  int64 \n",
      " 7   loan       45211 non-null  int64 \n",
      " 8   contact    45211 non-null  object\n",
      " 9   day        45211 non-null  int64 \n",
      " 10  month      45211 non-null  object\n",
      " 11  duration   45211 non-null  int64 \n",
      " 12  campaign   45211 non-null  int64 \n",
      " 13  pdays      45211 non-null  int64 \n",
      " 14  previous   45211 non-null  int64 \n",
      " 15  poutcome   45211 non-null  object\n",
      " 16  tdeposit   45211 non-null  int64 \n",
      "dtypes: int64(11), object(6)\n",
      "memory usage: 5.9+ MB\n"
     ]
    }
   ],
   "source": [
    "dftrain.info()"
   ]
  },
  {
   "cell_type": "code",
   "execution_count": 9,
   "id": "bc709664",
   "metadata": {},
   "outputs": [
    {
     "data": {
      "text/plain": [
       "0    39922\n",
       "1     5289\n",
       "Name: tdeposit, dtype: int64"
      ]
     },
     "execution_count": 9,
     "metadata": {},
     "output_type": "execute_result"
    }
   ],
   "source": [
    "dftrain.tdeposit.value_counts()"
   ]
  },
  {
   "cell_type": "markdown",
   "id": "0bf983ab",
   "metadata": {},
   "source": [
    "# To handle the imbalance, an oversampling technique called SMOTE is employed and below is the result"
   ]
  },
  {
   "cell_type": "code",
   "execution_count": 10,
   "id": "d1e21b0e",
   "metadata": {},
   "outputs": [
    {
     "name": "stdout",
     "output_type": "stream",
     "text": [
      "Number transactions X_train dataset:  (36168, 10)\n",
      "Number transactions y_train dataset:  (36168,)\n",
      "Number transactions X_test dataset:  (9043, 10)\n",
      "Number transactions y_test dataset:  (9043,)\n"
     ]
    }
   ],
   "source": [
    "# import necessary modules \n",
    "import pandas  as pd\n",
    "import matplotlib.pyplot as plt\n",
    "import numpy as np\n",
    "from sklearn.linear_model import LogisticRegression\n",
    "from sklearn.preprocessing import StandardScaler\n",
    "from sklearn.metrics import confusion_matrix, classification_report\n",
    "from sklearn.model_selection import train_test_split\n",
    "\n",
    "# Drop All object datatype columns before the regression model\n",
    "dftrain = dftrain.select_dtypes(include=['float64','int32','int64', 'uint8'])\n",
    "dftest = dftest.select_dtypes(include=['float64','int32','int64', 'uint8'])\n",
    "\n",
    "# Dropping the output variable price from the train dataset to the X for Model Building\n",
    "X = dftrain.drop(\"tdeposit\", axis=1)\n",
    "# Assigning the output variable price from the train dataset to the Y for Model prediction \n",
    "y = dftrain[\"tdeposit\"]\n",
    "\n",
    "\n",
    "# split into 80:20 ration\n",
    "X_train, X_test, y_train, y_test = train_test_split(X, y, test_size = 0.2, random_state = 0)\n",
    "  \n",
    "# describes info about train and test set\n",
    "print(\"Number transactions X_train dataset: \", X_train.shape)\n",
    "print(\"Number transactions y_train dataset: \", y_train.shape)\n",
    "print(\"Number transactions X_test dataset: \", X_test.shape)\n",
    "print(\"Number transactions y_test dataset: \", y_test.shape)"
   ]
  },
  {
   "cell_type": "code",
   "execution_count": 11,
   "id": "62065127",
   "metadata": {},
   "outputs": [
    {
     "name": "stdout",
     "output_type": "stream",
     "text": [
      "              precision    recall  f1-score   support\n",
      "\n",
      "           0       0.90      0.98      0.94      7980\n",
      "           1       0.56      0.16      0.25      1063\n",
      "\n",
      "    accuracy                           0.89      9043\n",
      "   macro avg       0.73      0.57      0.59      9043\n",
      "weighted avg       0.86      0.89      0.86      9043\n",
      "\n"
     ]
    },
    {
     "name": "stderr",
     "output_type": "stream",
     "text": [
      "C:\\Users\\sanja\\anaconda3\\lib\\site-packages\\sklearn\\linear_model\\_logistic.py:763: ConvergenceWarning: lbfgs failed to converge (status=1):\n",
      "STOP: TOTAL NO. of ITERATIONS REACHED LIMIT.\n",
      "\n",
      "Increase the number of iterations (max_iter) or scale the data as shown in:\n",
      "    https://scikit-learn.org/stable/modules/preprocessing.html\n",
      "Please also refer to the documentation for alternative solver options:\n",
      "    https://scikit-learn.org/stable/modules/linear_model.html#logistic-regression\n",
      "  n_iter_i = _check_optimize_result(\n"
     ]
    }
   ],
   "source": [
    "# Now train the model without handling the imbalanced class distribution\n",
    "# logistic regression object\n",
    "lr = LogisticRegression()\n",
    "  \n",
    "# train the model on train set\n",
    "lr.fit(X_train, y_train.ravel())\n",
    "  \n",
    "predictions = lr.predict(X_test)\n",
    "  \n",
    "# print classification report\n",
    "print(classification_report(y_test, predictions))"
   ]
  },
  {
   "cell_type": "raw",
   "id": "b2cbf8da",
   "metadata": {},
   "source": [
    "# The recall of the minority class in very less. It proves that the model is more biased towards majority class. So, it proves that this is not the best model. Now, we will apply different imbalanced data handling techniques and see their accuracy and recall results."
   ]
  },
  {
   "cell_type": "markdown",
   "id": "10bc1c3c",
   "metadata": {},
   "source": [
    "# Using SMOTE Algorithm"
   ]
  },
  {
   "cell_type": "code",
   "execution_count": 13,
   "id": "fb2f4263",
   "metadata": {},
   "outputs": [
    {
     "name": "stdout",
     "output_type": "stream",
     "text": [
      "Before OverSampling, counts of label '1': 4226\n",
      "Before OverSampling, counts of label '0': 31942 \n",
      "\n",
      "After OverSampling, the shape of train_X: (63884, 10)\n",
      "After OverSampling, the shape of train_y: (63884,) \n",
      "\n",
      "After OverSampling, counts of label '1': 31942\n",
      "After OverSampling, counts of label '0': 31942\n"
     ]
    }
   ],
   "source": [
    "print(\"Before OverSampling, counts of label '1': {}\".format(sum(y_train == 1)))\n",
    "print(\"Before OverSampling, counts of label '0': {} \\n\".format(sum(y_train == 0)))\n",
    "  \n",
    "# import SMOTE module from imblearn library\n",
    "# pip install imblearn (if you don't have imblearn in your system)\n",
    "# !pip install imblearn\n",
    "from imblearn.over_sampling import SMOTE\n",
    "sm = SMOTE(random_state = 2)\n",
    "X_train_res, y_train_res = sm.fit_resample(X_train, y_train.ravel())\n",
    "  \n",
    "print('After OverSampling, the shape of train_X: {}'.format(X_train_res.shape))\n",
    "print('After OverSampling, the shape of train_y: {} \\n'.format(y_train_res.shape))\n",
    "  \n",
    "print(\"After OverSampling, counts of label '1': {}\".format(sum(y_train_res == 1)))\n",
    "print(\"After OverSampling, counts of label '0': {}\".format(sum(y_train_res == 0)))"
   ]
  },
  {
   "cell_type": "raw",
   "id": "8062e68d",
   "metadata": {},
   "source": [
    "Look! that SMOTE Algorithm has oversampled the minority instances and made it equal to majority class. Both categories have equal amount of records. More specifically, the minority class has been increased to the total number of majority class.\n",
    "Now see the accuracy and recall results after applying SMOTE algorithm (Oversampling)."
   ]
  },
  {
   "cell_type": "markdown",
   "id": "c12d8187",
   "metadata": {},
   "source": [
    "# Prediction and Recall"
   ]
  },
  {
   "cell_type": "code",
   "execution_count": 14,
   "id": "a24887a2",
   "metadata": {},
   "outputs": [
    {
     "name": "stdout",
     "output_type": "stream",
     "text": [
      "              precision    recall  f1-score   support\n",
      "\n",
      "           0       0.96      0.82      0.88      7980\n",
      "           1       0.35      0.71      0.47      1063\n",
      "\n",
      "    accuracy                           0.81      9043\n",
      "   macro avg       0.65      0.77      0.68      9043\n",
      "weighted avg       0.88      0.81      0.84      9043\n",
      "\n"
     ]
    },
    {
     "name": "stderr",
     "output_type": "stream",
     "text": [
      "C:\\Users\\sanja\\anaconda3\\lib\\site-packages\\sklearn\\linear_model\\_logistic.py:763: ConvergenceWarning: lbfgs failed to converge (status=1):\n",
      "STOP: TOTAL NO. of ITERATIONS REACHED LIMIT.\n",
      "\n",
      "Increase the number of iterations (max_iter) or scale the data as shown in:\n",
      "    https://scikit-learn.org/stable/modules/preprocessing.html\n",
      "Please also refer to the documentation for alternative solver options:\n",
      "    https://scikit-learn.org/stable/modules/linear_model.html#logistic-regression\n",
      "  n_iter_i = _check_optimize_result(\n"
     ]
    }
   ],
   "source": [
    "lr1 = LogisticRegression()\n",
    "lr1.fit(X_train_res, y_train_res.ravel())\n",
    "predictions = lr1.predict(X_test)\n",
    "  \n",
    "# print classification report\n",
    "print(classification_report(y_test, predictions))"
   ]
  },
  {
   "cell_type": "raw",
   "id": "d805e3d9",
   "metadata": {},
   "source": [
    "We have reduced the accuracy to 81% as compared to previous model but the recall value of minority class has also improved to 71%. This is a good model compared to the previous one. Recall is great. Now, we will apply NearMiss technique to Under-sample the majority class and see its accuracy and recall results."
   ]
  },
  {
   "cell_type": "markdown",
   "id": "91a7072f",
   "metadata": {},
   "source": [
    "# NearMiss Algorithm:"
   ]
  },
  {
   "cell_type": "code",
   "execution_count": 16,
   "id": "ef5db3b4",
   "metadata": {},
   "outputs": [
    {
     "name": "stdout",
     "output_type": "stream",
     "text": [
      "Before Undersampling, counts of label '1': 4226\n",
      "Before Undersampling, counts of label '0': 31942 \n",
      "\n",
      "After Undersampling, the shape of train_X: (8452, 10)\n",
      "After Undersampling, the shape of train_y: (8452,) \n",
      "\n",
      "After Undersampling, counts of label '1': 4226\n",
      "After Undersampling, counts of label '0': 4226\n"
     ]
    }
   ],
   "source": [
    "print(\"Before Undersampling, counts of label '1': {}\".format(sum(y_train == 1)))\n",
    "print(\"Before Undersampling, counts of label '0': {} \\n\".format(sum(y_train == 0)))\n",
    "  \n",
    "# apply near miss\n",
    "from imblearn.under_sampling import NearMiss\n",
    "nr = NearMiss()\n",
    "  \n",
    "X_train_miss, y_train_miss = nr.fit_resample(X_train, y_train.ravel())\n",
    "  \n",
    "print('After Undersampling, the shape of train_X: {}'.format(X_train_miss.shape))\n",
    "print('After Undersampling, the shape of train_y: {} \\n'.format(y_train_miss.shape))\n",
    "  \n",
    "print(\"After Undersampling, counts of label '1': {}\".format(sum(y_train_miss == 1)))\n",
    "print(\"After Undersampling, counts of label '0': {}\".format(sum(y_train_miss == 0)))"
   ]
  },
  {
   "cell_type": "raw",
   "id": "dda372f5",
   "metadata": {},
   "source": [
    "The NearMiss Algorithm has undersampled the majority instances and made it equal to majority class. Here, the majority class has been reduced to the total number of minority class, so that both classes will have equal number of records."
   ]
  },
  {
   "cell_type": "code",
   "execution_count": 17,
   "id": "a6afbe68",
   "metadata": {},
   "outputs": [
    {
     "name": "stdout",
     "output_type": "stream",
     "text": [
      "              precision    recall  f1-score   support\n",
      "\n",
      "           0       0.96      0.55      0.70      7980\n",
      "           1       0.20      0.85      0.32      1063\n",
      "\n",
      "    accuracy                           0.58      9043\n",
      "   macro avg       0.58      0.70      0.51      9043\n",
      "weighted avg       0.87      0.58      0.65      9043\n",
      "\n"
     ]
    },
    {
     "name": "stderr",
     "output_type": "stream",
     "text": [
      "C:\\Users\\sanja\\anaconda3\\lib\\site-packages\\sklearn\\linear_model\\_logistic.py:763: ConvergenceWarning: lbfgs failed to converge (status=1):\n",
      "STOP: TOTAL NO. of ITERATIONS REACHED LIMIT.\n",
      "\n",
      "Increase the number of iterations (max_iter) or scale the data as shown in:\n",
      "    https://scikit-learn.org/stable/modules/preprocessing.html\n",
      "Please also refer to the documentation for alternative solver options:\n",
      "    https://scikit-learn.org/stable/modules/linear_model.html#logistic-regression\n",
      "  n_iter_i = _check_optimize_result(\n"
     ]
    }
   ],
   "source": [
    "# train the model on train set\n",
    "lr2 = LogisticRegression()\n",
    "lr2.fit(X_train_miss, y_train_miss.ravel())\n",
    "predictions = lr2.predict(X_test)\n",
    "  \n",
    "# print classification report\n",
    "print(classification_report(y_test, predictions))"
   ]
  },
  {
   "cell_type": "raw",
   "id": "ae9dc6de",
   "metadata": {},
   "source": [
    "This model is better than the first model because it classifies better and also the recall value of minority class is 85%. But due to undersampling of majority class, its recall has decreased to 55%. So in this case, SMOTE is giving me a great accuracy and recall, I’ll go ahead and use that model!"
   ]
  }
 ],
 "metadata": {
  "kernelspec": {
   "display_name": "Python 3",
   "language": "python",
   "name": "python3"
  },
  "language_info": {
   "codemirror_mode": {
    "name": "ipython",
    "version": 3
   },
   "file_extension": ".py",
   "mimetype": "text/x-python",
   "name": "python",
   "nbconvert_exporter": "python",
   "pygments_lexer": "ipython3",
   "version": "3.8.8"
  }
 },
 "nbformat": 4,
 "nbformat_minor": 5
}
